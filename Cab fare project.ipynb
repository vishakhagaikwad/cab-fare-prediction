{
 "cells": [
  {
   "cell_type": "markdown",
   "metadata": {},
   "source": [
    "# cab fare prediction"
   ]
  },
  {
   "cell_type": "code",
   "execution_count": 1,
   "metadata": {},
   "outputs": [],
   "source": [
    "#Load libraries\n",
    "import os\n",
    "import pandas as pd\n",
    "import numpy as np\n",
    "import matplotlib.pyplot as plt\n",
    "from scipy.stats import chi2_contingency\n",
    "import seaborn as sns\n",
    "from sklearn.neighbors import KNeighborsClassifier\n",
    "from random import randrange, uniform"
   ]
  },
  {
   "cell_type": "code",
   "execution_count": 2,
   "metadata": {},
   "outputs": [],
   "source": [
    "# setting working directory\n",
    "os.chdir(\"R:/vishakha r progaram/projects\")"
   ]
  },
  {
   "cell_type": "code",
   "execution_count": 3,
   "metadata": {},
   "outputs": [
    {
     "data": {
      "text/plain": [
       "'R:\\\\vishakha r progaram\\\\projects'"
      ]
     },
     "execution_count": 3,
     "metadata": {},
     "output_type": "execute_result"
    }
   ],
   "source": [
    "os.getcwd()"
   ]
  },
  {
   "cell_type": "code",
   "execution_count": 4,
   "metadata": {},
   "outputs": [],
   "source": [
    "#loading  data \n",
    "cab_tr = (pd.read_csv('train_cab.csv', header = 0 )).drop(columns=\"pickup_datetime\")"
   ]
  },
  {
   "cell_type": "code",
   "execution_count": 5,
   "metadata": {},
   "outputs": [
    {
     "data": {
      "text/plain": [
       "(16067, 6)"
      ]
     },
     "execution_count": 5,
     "metadata": {},
     "output_type": "execute_result"
    }
   ],
   "source": [
    "cab_tr.shape"
   ]
  },
  {
   "cell_type": "code",
   "execution_count": 6,
   "metadata": {
    "scrolled": false
   },
   "outputs": [
    {
     "data": {
      "text/html": [
       "<div>\n",
       "<style scoped>\n",
       "    .dataframe tbody tr th:only-of-type {\n",
       "        vertical-align: middle;\n",
       "    }\n",
       "\n",
       "    .dataframe tbody tr th {\n",
       "        vertical-align: top;\n",
       "    }\n",
       "\n",
       "    .dataframe thead th {\n",
       "        text-align: right;\n",
       "    }\n",
       "</style>\n",
       "<table border=\"1\" class=\"dataframe\">\n",
       "  <thead>\n",
       "    <tr style=\"text-align: right;\">\n",
       "      <th></th>\n",
       "      <th>fare_amount</th>\n",
       "      <th>pickup_longitude</th>\n",
       "      <th>pickup_latitude</th>\n",
       "      <th>dropoff_longitude</th>\n",
       "      <th>dropoff_latitude</th>\n",
       "      <th>passenger_count</th>\n",
       "    </tr>\n",
       "  </thead>\n",
       "  <tbody>\n",
       "    <tr>\n",
       "      <th>0</th>\n",
       "      <td>4.5</td>\n",
       "      <td>-73.844311</td>\n",
       "      <td>40.721319</td>\n",
       "      <td>-73.841610</td>\n",
       "      <td>40.712278</td>\n",
       "      <td>1.0</td>\n",
       "    </tr>\n",
       "    <tr>\n",
       "      <th>1</th>\n",
       "      <td>16.9</td>\n",
       "      <td>-74.016048</td>\n",
       "      <td>40.711303</td>\n",
       "      <td>-73.979268</td>\n",
       "      <td>40.782004</td>\n",
       "      <td>1.0</td>\n",
       "    </tr>\n",
       "    <tr>\n",
       "      <th>2</th>\n",
       "      <td>5.7</td>\n",
       "      <td>-73.982738</td>\n",
       "      <td>40.761270</td>\n",
       "      <td>-73.991242</td>\n",
       "      <td>40.750562</td>\n",
       "      <td>2.0</td>\n",
       "    </tr>\n",
       "    <tr>\n",
       "      <th>3</th>\n",
       "      <td>7.7</td>\n",
       "      <td>-73.987130</td>\n",
       "      <td>40.733143</td>\n",
       "      <td>-73.991567</td>\n",
       "      <td>40.758092</td>\n",
       "      <td>1.0</td>\n",
       "    </tr>\n",
       "    <tr>\n",
       "      <th>4</th>\n",
       "      <td>5.3</td>\n",
       "      <td>-73.968095</td>\n",
       "      <td>40.768008</td>\n",
       "      <td>-73.956655</td>\n",
       "      <td>40.783762</td>\n",
       "      <td>1.0</td>\n",
       "    </tr>\n",
       "  </tbody>\n",
       "</table>\n",
       "</div>"
      ],
      "text/plain": [
       "  fare_amount  pickup_longitude  pickup_latitude  dropoff_longitude  \\\n",
       "0         4.5        -73.844311        40.721319         -73.841610   \n",
       "1        16.9        -74.016048        40.711303         -73.979268   \n",
       "2         5.7        -73.982738        40.761270         -73.991242   \n",
       "3         7.7        -73.987130        40.733143         -73.991567   \n",
       "4         5.3        -73.968095        40.768008         -73.956655   \n",
       "\n",
       "   dropoff_latitude  passenger_count  \n",
       "0         40.712278              1.0  \n",
       "1         40.782004              1.0  \n",
       "2         40.750562              2.0  \n",
       "3         40.758092              1.0  \n",
       "4         40.783762              1.0  "
      ]
     },
     "execution_count": 6,
     "metadata": {},
     "output_type": "execute_result"
    }
   ],
   "source": [
    "cab_tr.head()"
   ]
  },
  {
   "cell_type": "markdown",
   "metadata": {},
   "source": [
    "# Exploratory data analysis"
   ]
  },
  {
   "cell_type": "code",
   "execution_count": 7,
   "metadata": {},
   "outputs": [],
   "source": [
    "#remove the location where drop  location = pickup location\n",
    "cab_tr=cab_tr[np.logical_and(cab_tr['pickup_longitude'] != cab_tr['dropoff_longitude'],\n",
    "                                    cab_tr['pickup_latitude'] != cab_tr['dropoff_latitude'])]"
   ]
  },
  {
   "cell_type": "code",
   "execution_count": 8,
   "metadata": {},
   "outputs": [],
   "source": [
    "#replace 0 with NA in the variables and convert the data wherever required for further operations\n",
    "cab_tr['fare_amount']= cab_tr['fare_amount'].apply(pd.to_numeric, errors='coerce')\n",
    "cab_tr['fare_amount']= cab_tr['fare_amount'].replace({0:np.nan})\n",
    "cab_tr['passenger_count']=cab_tr['passenger_count'].fillna(0)\n",
    "cab_tr['passenger_count']= cab_tr['passenger_count'].astype(int)\n",
    "cab_tr['passenger_count']=cab_tr['passenger_count'].replace({0: np.nan})\n",
    "cab_tr['pickup_longitude']= cab_tr['pickup_longitude'].replace({0:np.nan})\n",
    "cab_tr['pickup_latitude']= cab_tr['pickup_latitude'].replace({0:np.nan})\n",
    "cab_tr['dropoff_longitude']= cab_tr['dropoff_longitude'].replace({0:np.nan})\n",
    "cab_tr['dropoff_latitude']= cab_tr['dropoff_latitude'].replace({0:np.nan})"
   ]
  },
  {
   "cell_type": "code",
   "execution_count": 9,
   "metadata": {},
   "outputs": [
    {
     "data": {
      "text/plain": [
       "(15603, 6)"
      ]
     },
     "execution_count": 9,
     "metadata": {},
     "output_type": "execute_result"
    }
   ],
   "source": [
    "cab_tr.shape"
   ]
  },
  {
   "cell_type": "code",
   "execution_count": 10,
   "metadata": {},
   "outputs": [
    {
     "data": {
      "text/html": [
       "<div>\n",
       "<style scoped>\n",
       "    .dataframe tbody tr th:only-of-type {\n",
       "        vertical-align: middle;\n",
       "    }\n",
       "\n",
       "    .dataframe tbody tr th {\n",
       "        vertical-align: top;\n",
       "    }\n",
       "\n",
       "    .dataframe thead th {\n",
       "        text-align: right;\n",
       "    }\n",
       "</style>\n",
       "<table border=\"1\" class=\"dataframe\">\n",
       "  <thead>\n",
       "    <tr style=\"text-align: right;\">\n",
       "      <th></th>\n",
       "      <th>fare_amount</th>\n",
       "      <th>pickup_longitude</th>\n",
       "      <th>pickup_latitude</th>\n",
       "      <th>dropoff_longitude</th>\n",
       "      <th>dropoff_latitude</th>\n",
       "      <th>passenger_count</th>\n",
       "    </tr>\n",
       "  </thead>\n",
       "  <tbody>\n",
       "    <tr>\n",
       "      <th>0</th>\n",
       "      <td>4.5</td>\n",
       "      <td>-73.844311</td>\n",
       "      <td>40.721319</td>\n",
       "      <td>-73.841610</td>\n",
       "      <td>40.712278</td>\n",
       "      <td>1.0</td>\n",
       "    </tr>\n",
       "    <tr>\n",
       "      <th>1</th>\n",
       "      <td>16.9</td>\n",
       "      <td>-74.016048</td>\n",
       "      <td>40.711303</td>\n",
       "      <td>-73.979268</td>\n",
       "      <td>40.782004</td>\n",
       "      <td>1.0</td>\n",
       "    </tr>\n",
       "    <tr>\n",
       "      <th>2</th>\n",
       "      <td>5.7</td>\n",
       "      <td>-73.982738</td>\n",
       "      <td>40.761270</td>\n",
       "      <td>-73.991242</td>\n",
       "      <td>40.750562</td>\n",
       "      <td>2.0</td>\n",
       "    </tr>\n",
       "    <tr>\n",
       "      <th>3</th>\n",
       "      <td>7.7</td>\n",
       "      <td>-73.987130</td>\n",
       "      <td>40.733143</td>\n",
       "      <td>-73.991567</td>\n",
       "      <td>40.758092</td>\n",
       "      <td>1.0</td>\n",
       "    </tr>\n",
       "    <tr>\n",
       "      <th>4</th>\n",
       "      <td>5.3</td>\n",
       "      <td>-73.968095</td>\n",
       "      <td>40.768008</td>\n",
       "      <td>-73.956655</td>\n",
       "      <td>40.783762</td>\n",
       "      <td>1.0</td>\n",
       "    </tr>\n",
       "  </tbody>\n",
       "</table>\n",
       "</div>"
      ],
      "text/plain": [
       "   fare_amount  pickup_longitude  pickup_latitude  dropoff_longitude  \\\n",
       "0          4.5        -73.844311        40.721319         -73.841610   \n",
       "1         16.9        -74.016048        40.711303         -73.979268   \n",
       "2          5.7        -73.982738        40.761270         -73.991242   \n",
       "3          7.7        -73.987130        40.733143         -73.991567   \n",
       "4          5.3        -73.968095        40.768008         -73.956655   \n",
       "\n",
       "   dropoff_latitude  passenger_count  \n",
       "0         40.712278              1.0  \n",
       "1         40.782004              1.0  \n",
       "2         40.750562              2.0  \n",
       "3         40.758092              1.0  \n",
       "4         40.783762              1.0  "
      ]
     },
     "execution_count": 10,
     "metadata": {},
     "output_type": "execute_result"
    }
   ],
   "source": [
    "cab_tr.head()"
   ]
  },
  {
   "cell_type": "markdown",
   "metadata": {},
   "source": [
    "# Data preprocessing -Missing Value Analysis"
   ]
  },
  {
   "cell_type": "code",
   "execution_count": 11,
   "metadata": {},
   "outputs": [],
   "source": [
    "#calculate missing values\n",
    "# summing (missing_val)\n",
    "missing_val = pd.DataFrame(cab_tr.isnull().sum())"
   ]
  },
  {
   "cell_type": "code",
   "execution_count": 12,
   "metadata": {},
   "outputs": [],
   "source": [
    "#Reset index\n",
    "missing_val = missing_val.reset_index()"
   ]
  },
  {
   "cell_type": "code",
   "execution_count": 13,
   "metadata": {},
   "outputs": [
    {
     "data": {
      "text/html": [
       "<div>\n",
       "<style scoped>\n",
       "    .dataframe tbody tr th:only-of-type {\n",
       "        vertical-align: middle;\n",
       "    }\n",
       "\n",
       "    .dataframe tbody tr th {\n",
       "        vertical-align: top;\n",
       "    }\n",
       "\n",
       "    .dataframe thead th {\n",
       "        text-align: right;\n",
       "    }\n",
       "</style>\n",
       "<table border=\"1\" class=\"dataframe\">\n",
       "  <thead>\n",
       "    <tr style=\"text-align: right;\">\n",
       "      <th></th>\n",
       "      <th>index</th>\n",
       "      <th>0</th>\n",
       "    </tr>\n",
       "  </thead>\n",
       "  <tbody>\n",
       "    <tr>\n",
       "      <th>0</th>\n",
       "      <td>fare_amount</td>\n",
       "      <td>24</td>\n",
       "    </tr>\n",
       "    <tr>\n",
       "      <th>1</th>\n",
       "      <td>pickup_longitude</td>\n",
       "      <td>12</td>\n",
       "    </tr>\n",
       "    <tr>\n",
       "      <th>2</th>\n",
       "      <td>pickup_latitude</td>\n",
       "      <td>12</td>\n",
       "    </tr>\n",
       "    <tr>\n",
       "      <th>3</th>\n",
       "      <td>dropoff_longitude</td>\n",
       "      <td>10</td>\n",
       "    </tr>\n",
       "    <tr>\n",
       "      <th>4</th>\n",
       "      <td>dropoff_latitude</td>\n",
       "      <td>9</td>\n",
       "    </tr>\n",
       "    <tr>\n",
       "      <th>5</th>\n",
       "      <td>passenger_count</td>\n",
       "      <td>112</td>\n",
       "    </tr>\n",
       "  </tbody>\n",
       "</table>\n",
       "</div>"
      ],
      "text/plain": [
       "               index    0\n",
       "0        fare_amount   24\n",
       "1   pickup_longitude   12\n",
       "2    pickup_latitude   12\n",
       "3  dropoff_longitude   10\n",
       "4   dropoff_latitude    9\n",
       "5    passenger_count  112"
      ]
     },
     "execution_count": 13,
     "metadata": {},
     "output_type": "execute_result"
    }
   ],
   "source": [
    "missing_val"
   ]
  },
  {
   "cell_type": "code",
   "execution_count": 14,
   "metadata": {},
   "outputs": [],
   "source": [
    "#Rename variable\n",
    "missing_val = missing_val.rename(columns = {'index': 'Variables', 0: 'count'})"
   ]
  },
  {
   "cell_type": "code",
   "execution_count": 15,
   "metadata": {},
   "outputs": [
    {
     "data": {
      "text/html": [
       "<div>\n",
       "<style scoped>\n",
       "    .dataframe tbody tr th:only-of-type {\n",
       "        vertical-align: middle;\n",
       "    }\n",
       "\n",
       "    .dataframe tbody tr th {\n",
       "        vertical-align: top;\n",
       "    }\n",
       "\n",
       "    .dataframe thead th {\n",
       "        text-align: right;\n",
       "    }\n",
       "</style>\n",
       "<table border=\"1\" class=\"dataframe\">\n",
       "  <thead>\n",
       "    <tr style=\"text-align: right;\">\n",
       "      <th></th>\n",
       "      <th>Variables</th>\n",
       "      <th>count</th>\n",
       "    </tr>\n",
       "  </thead>\n",
       "  <tbody>\n",
       "    <tr>\n",
       "      <th>0</th>\n",
       "      <td>fare_amount</td>\n",
       "      <td>24</td>\n",
       "    </tr>\n",
       "    <tr>\n",
       "      <th>1</th>\n",
       "      <td>pickup_longitude</td>\n",
       "      <td>12</td>\n",
       "    </tr>\n",
       "    <tr>\n",
       "      <th>2</th>\n",
       "      <td>pickup_latitude</td>\n",
       "      <td>12</td>\n",
       "    </tr>\n",
       "    <tr>\n",
       "      <th>3</th>\n",
       "      <td>dropoff_longitude</td>\n",
       "      <td>10</td>\n",
       "    </tr>\n",
       "    <tr>\n",
       "      <th>4</th>\n",
       "      <td>dropoff_latitude</td>\n",
       "      <td>9</td>\n",
       "    </tr>\n",
       "    <tr>\n",
       "      <th>5</th>\n",
       "      <td>passenger_count</td>\n",
       "      <td>112</td>\n",
       "    </tr>\n",
       "  </tbody>\n",
       "</table>\n",
       "</div>"
      ],
      "text/plain": [
       "           Variables  count\n",
       "0        fare_amount     24\n",
       "1   pickup_longitude     12\n",
       "2    pickup_latitude     12\n",
       "3  dropoff_longitude     10\n",
       "4   dropoff_latitude      9\n",
       "5    passenger_count    112"
      ]
     },
     "execution_count": 15,
     "metadata": {},
     "output_type": "execute_result"
    }
   ],
   "source": [
    "missing_val"
   ]
  },
  {
   "cell_type": "code",
   "execution_count": 16,
   "metadata": {},
   "outputs": [
    {
     "name": "stdout",
     "output_type": "stream",
     "text": [
      "           Variables  count  Missing_percentage\n",
      "0    passenger_count    112            0.717811\n",
      "1        fare_amount     24            0.153817\n",
      "2   pickup_longitude     12            0.076908\n",
      "3    pickup_latitude     12            0.076908\n",
      "4  dropoff_longitude     10            0.064090\n",
      "5   dropoff_latitude      9            0.057681\n"
     ]
    }
   ],
   "source": [
    "#Calculate percentage\n",
    "missing_val['Missing_percentage'] = (missing_val['count']/len(cab_tr)*100)\n",
    "#print(missing_val)\n",
    "\n",
    "#sort in descending order\n",
    "missing_val = missing_val.sort_values('Missing_percentage', ascending = False).reset_index(drop = True)\n",
    "print(missing_val)"
   ]
  },
  {
   "cell_type": "code",
   "execution_count": 17,
   "metadata": {},
   "outputs": [],
   "source": [
    "#save output results \n",
    "missing_val.to_csv(\"Miising_perc.csv\", index = False)"
   ]
  },
  {
   "cell_type": "markdown",
   "metadata": {},
   "source": [
    "# missing Value imputation"
   ]
  },
  {
   "cell_type": "code",
   "execution_count": 18,
   "metadata": {},
   "outputs": [],
   "source": [
    "#imputation method \n",
    "#Actual value = -73.99578100000001\n",
    "#Mean = -73.91159336554888\n",
    "#Median = -73.98172199999999"
   ]
  },
  {
   "cell_type": "code",
   "execution_count": 19,
   "metadata": {},
   "outputs": [],
   "source": [
    "#Create missing value, a small test to identify which method is good for imputation\n",
    "\n",
    "#cab_tr[\"pickup_longitude\"].loc[70]"
   ]
  },
  {
   "cell_type": "code",
   "execution_count": 20,
   "metadata": {},
   "outputs": [],
   "source": [
    "#cab_tr[\"pickup_longitude\"].loc[70] = np.nan"
   ]
  },
  {
   "cell_type": "code",
   "execution_count": 21,
   "metadata": {},
   "outputs": [],
   "source": [
    "#cab_tr[\"pickup_longitude\"].loc[70] "
   ]
  },
  {
   "cell_type": "code",
   "execution_count": 22,
   "metadata": {},
   "outputs": [],
   "source": [
    "#Mean Imputation\n",
    "#cab_tr['pickup_longitude'] =cab_tr['pickup_longitude'].fillna(cab_tr['pickup_longitude'].mean())"
   ]
  },
  {
   "cell_type": "code",
   "execution_count": 23,
   "metadata": {},
   "outputs": [],
   "source": [
    "#Median Imputation\n",
    "#cab_tr['pickup_longitude'] = cab_tr['pickup_longitude'].fillna(cab_tr['pickup_longitude'].median())"
   ]
  },
  {
   "cell_type": "code",
   "execution_count": 24,
   "metadata": {},
   "outputs": [],
   "source": [
    "#As it is found Mean is very close to original method we will proceed with imputation via mean\n",
    "cab_tr['fare_amount'] = cab_tr['fare_amount'].fillna(cab_tr['fare_amount'].mean())\n",
    "cab_tr['pickup_longitude']= cab_tr['pickup_longitude'].fillna(cab_tr['pickup_longitude'].mean())\n",
    "cab_tr['pickup_latitude']= cab_tr['pickup_latitude'].fillna(cab_tr['pickup_latitude'].mean())\n",
    "cab_tr['dropoff_longitude']= cab_tr['dropoff_longitude'].fillna(cab_tr['dropoff_longitude'].mean())\n",
    "cab_tr['dropoff_latitude']= cab_tr['dropoff_latitude'].fillna(cab_tr['dropoff_latitude'].mean())"
   ]
  },
  {
   "cell_type": "code",
   "execution_count": 25,
   "metadata": {},
   "outputs": [],
   "source": [
    "#And for category variables imputation is done with mode\n",
    "cab_tr['passenger_count'] = cab_tr['passenger_count'].fillna(int(cab_tr['passenger_count'].mode()))"
   ]
  },
  {
   "cell_type": "code",
   "execution_count": 26,
   "metadata": {},
   "outputs": [],
   "source": [
    "#Imputing the NAs in target variables may hamper the model, so it is preferred to remove NA rows of the data\n",
    "cab_tr=cab_tr.dropna()"
   ]
  },
  {
   "cell_type": "code",
   "execution_count": 27,
   "metadata": {},
   "outputs": [
    {
     "data": {
      "text/plain": [
       "fare_amount          0\n",
       "pickup_longitude     0\n",
       "pickup_latitude      0\n",
       "dropoff_longitude    0\n",
       "dropoff_latitude     0\n",
       "passenger_count      0\n",
       "dtype: int64"
      ]
     },
     "execution_count": 27,
     "metadata": {},
     "output_type": "execute_result"
    }
   ],
   "source": [
    "(cab_tr.isnull().sum())"
   ]
  },
  {
   "cell_type": "code",
   "execution_count": 28,
   "metadata": {},
   "outputs": [],
   "source": [
    "#conert into proper data type\n",
    "convert_dic={'fare_amount' : 'float','passenger_count': 'int'}\n",
    "cab_tr=cab_tr.astype(convert_dic)"
   ]
  },
  {
   "cell_type": "code",
   "execution_count": 29,
   "metadata": {},
   "outputs": [
    {
     "data": {
      "text/plain": [
       "(15603, 6)"
      ]
     },
     "execution_count": 29,
     "metadata": {},
     "output_type": "execute_result"
    }
   ],
   "source": [
    "cab_tr.shape"
   ]
  },
  {
   "cell_type": "code",
   "execution_count": 30,
   "metadata": {},
   "outputs": [],
   "source": [
    "#save the data with in another place with different name\n",
    "df = cab_tr.copy()"
   ]
  },
  {
   "cell_type": "markdown",
   "metadata": {},
   "source": [
    "# Outlier analysis"
   ]
  },
  {
   "cell_type": "code",
   "execution_count": 31,
   "metadata": {},
   "outputs": [],
   "source": [
    "# irregular fare_amount are converted to NA \n",
    "cab_tr.loc[cab_tr['fare_amount']<0 , 'fare_amount']=np.nan\n",
    "cab_tr.loc[cab_tr['fare_amount'] > 30, 'fare_amount']=np.nan"
   ]
  },
  {
   "cell_type": "code",
   "execution_count": 32,
   "metadata": {},
   "outputs": [],
   "source": [
    "#removing NA \n",
    "cab_tr=cab_tr.dropna()"
   ]
  },
  {
   "cell_type": "code",
   "execution_count": 33,
   "metadata": {},
   "outputs": [],
   "source": [
    "#irregular passenger counts or those wgich are greater then 8 convertet to NaN\n",
    "cab_tr.loc[cab_tr['passenger_count'] > 8,'passenger_count'] = np.nan"
   ]
  },
  {
   "cell_type": "code",
   "execution_count": 34,
   "metadata": {},
   "outputs": [
    {
     "data": {
      "text/plain": [
       "array([ 1.,  2.,  3.,  6.,  5.,  4., nan])"
      ]
     },
     "execution_count": 34,
     "metadata": {},
     "output_type": "execute_result"
    }
   ],
   "source": [
    "cab_tr['passenger_count'].unique() "
   ]
  },
  {
   "cell_type": "code",
   "execution_count": 35,
   "metadata": {},
   "outputs": [
    {
     "data": {
      "text/plain": [
       "Index(['fare_amount', 'pickup_longitude', 'pickup_latitude',\n",
       "       'dropoff_longitude', 'dropoff_latitude', 'passenger_count'],\n",
       "      dtype='object')"
      ]
     },
     "execution_count": 35,
     "metadata": {},
     "output_type": "execute_result"
    }
   ],
   "source": [
    "cab_tr.columns"
   ]
  },
  {
   "cell_type": "code",
   "execution_count": 36,
   "metadata": {},
   "outputs": [
    {
     "data": {
      "image/png": "[encoded data removed]",
      "text/plain": [
       "<Figure size 504x360 with 1 Axes>"
      ]
     },
     "metadata": {
      "needs_background": "light"
     },
     "output_type": "display_data"
    }
   ],
   "source": [
    "plt.figure(figsize=(7,5)) \n",
    "plt.xlim(0,100)\n",
    "sns.boxplot(x=cab_tr['fare_amount'],data=cab_tr,orient='v')\n",
    "plt.title('Boxplot of fare_amount')\n",
    "# plt.savefig('bp of fare_amount.png')\n",
    "plt.show()"
   ]
  },
  {
   "cell_type": "code",
   "execution_count": 37,
   "metadata": {},
   "outputs": [],
   "source": [
    "#save numeric data names\n",
    "coutliers = [ 'pickup_longitude', 'pickup_latitude', 'dropoff_longitude', 'dropoff_latitude']"
   ]
  },
  {
   "cell_type": "code",
   "execution_count": 38,
   "metadata": {},
   "outputs": [],
   "source": [
    "#outlier extraction and convert it into NA\n",
    "coutliers = [ 'pickup_longitude', 'pickup_latitude', 'dropoff_longitude', 'dropoff_latitude']\n",
    "for list in coutliers:\n",
    "    #Detect and replace with NA\n",
    "    #Extract quartiles\n",
    "    q75, q25 = np.percentile(cab_tr[list], [75 ,25])\n",
    "\n",
    "    #Calculate IQR\n",
    "    iqr = q75 - q25\n",
    "   \n",
    "    # #Calculate inner and outer fence\n",
    "    minimum = q25 - (iqr*1.5)\n",
    "    maximum = q75 + (iqr*1.5)\n",
    "\n",
    "    # #Replace with NA\n",
    "    cab_tr.loc[cab_tr[list] < minimum,list] = np.nan\n",
    "    cab_tr.loc[cab_tr[list] > maximum,list] = np.nan\n",
    "\n",
    "    # #Calculate missing value\n",
    "    missing_val = pd.DataFrame(cab_tr.isnull().sum())"
   ]
  },
  {
   "cell_type": "code",
   "execution_count": 39,
   "metadata": {},
   "outputs": [
    {
     "data": {
      "text/html": [
       "<div>\n",
       "<style scoped>\n",
       "    .dataframe tbody tr th:only-of-type {\n",
       "        vertical-align: middle;\n",
       "    }\n",
       "\n",
       "    .dataframe tbody tr th {\n",
       "        vertical-align: top;\n",
       "    }\n",
       "\n",
       "    .dataframe thead th {\n",
       "        text-align: right;\n",
       "    }\n",
       "</style>\n",
       "<table border=\"1\" class=\"dataframe\">\n",
       "  <thead>\n",
       "    <tr style=\"text-align: right;\">\n",
       "      <th></th>\n",
       "      <th>0</th>\n",
       "    </tr>\n",
       "  </thead>\n",
       "  <tbody>\n",
       "    <tr>\n",
       "      <th>fare_amount</th>\n",
       "      <td>0</td>\n",
       "    </tr>\n",
       "    <tr>\n",
       "      <th>pickup_longitude</th>\n",
       "      <td>407</td>\n",
       "    </tr>\n",
       "    <tr>\n",
       "      <th>pickup_latitude</th>\n",
       "      <td>310</td>\n",
       "    </tr>\n",
       "    <tr>\n",
       "      <th>dropoff_longitude</th>\n",
       "      <td>556</td>\n",
       "    </tr>\n",
       "    <tr>\n",
       "      <th>dropoff_latitude</th>\n",
       "      <td>559</td>\n",
       "    </tr>\n",
       "    <tr>\n",
       "      <th>passenger_count</th>\n",
       "      <td>18</td>\n",
       "    </tr>\n",
       "  </tbody>\n",
       "</table>\n",
       "</div>"
      ],
      "text/plain": [
       "                     0\n",
       "fare_amount          0\n",
       "pickup_longitude   407\n",
       "pickup_latitude    310\n",
       "dropoff_longitude  556\n",
       "dropoff_latitude   559\n",
       "passenger_count     18"
      ]
     },
     "execution_count": 39,
     "metadata": {},
     "output_type": "execute_result"
    }
   ],
   "source": [
    " missing_val"
   ]
  },
  {
   "cell_type": "code",
   "execution_count": 40,
   "metadata": {
    "scrolled": false
   },
   "outputs": [],
   "source": [
    "#As Mean is the best method, we impute missing values/ in this case outlier values with mean\n",
    "\n",
    "cab_tr['pickup_longitude'] = cab_tr['pickup_longitude'].fillna(cab_tr['pickup_longitude'].mean())\n",
    "cab_tr['pickup_latitude'] = cab_tr['pickup_latitude'].fillna(cab_tr['pickup_latitude'].mean())\n",
    "cab_tr['dropoff_longitude'] = cab_tr['dropoff_longitude'].fillna(cab_tr['dropoff_longitude'].mean())\n",
    "cab_tr['dropoff_longitude'] = cab_tr['dropoff_longitude'].fillna(cab_tr['dropoff_longitude'].mean())\n",
    "cab_tr['dropoff_latitude'] = cab_tr['dropoff_latitude'].fillna(cab_tr['dropoff_latitude'].mean())"
   ]
  },
  {
   "cell_type": "code",
   "execution_count": 41,
   "metadata": {},
   "outputs": [],
   "source": [
    "#imputed with mode for categorical variables\n",
    "cab_tr['passenger_count'] = cab_tr['passenger_count'].fillna(int(cab_tr['passenger_count'].mode()))"
   ]
  },
  {
   "cell_type": "code",
   "execution_count": 42,
   "metadata": {},
   "outputs": [
    {
     "data": {
      "text/html": [
       "<div>\n",
       "<style scoped>\n",
       "    .dataframe tbody tr th:only-of-type {\n",
       "        vertical-align: middle;\n",
       "    }\n",
       "\n",
       "    .dataframe tbody tr th {\n",
       "        vertical-align: top;\n",
       "    }\n",
       "\n",
       "    .dataframe thead th {\n",
       "        text-align: right;\n",
       "    }\n",
       "</style>\n",
       "<table border=\"1\" class=\"dataframe\">\n",
       "  <thead>\n",
       "    <tr style=\"text-align: right;\">\n",
       "      <th></th>\n",
       "      <th>0</th>\n",
       "    </tr>\n",
       "  </thead>\n",
       "  <tbody>\n",
       "    <tr>\n",
       "      <th>fare_amount</th>\n",
       "      <td>0</td>\n",
       "    </tr>\n",
       "    <tr>\n",
       "      <th>pickup_longitude</th>\n",
       "      <td>0</td>\n",
       "    </tr>\n",
       "    <tr>\n",
       "      <th>pickup_latitude</th>\n",
       "      <td>0</td>\n",
       "    </tr>\n",
       "    <tr>\n",
       "      <th>dropoff_longitude</th>\n",
       "      <td>0</td>\n",
       "    </tr>\n",
       "    <tr>\n",
       "      <th>dropoff_latitude</th>\n",
       "      <td>0</td>\n",
       "    </tr>\n",
       "    <tr>\n",
       "      <th>passenger_count</th>\n",
       "      <td>0</td>\n",
       "    </tr>\n",
       "  </tbody>\n",
       "</table>\n",
       "</div>"
      ],
      "text/plain": [
       "                   0\n",
       "fare_amount        0\n",
       "pickup_longitude   0\n",
       "pickup_latitude    0\n",
       "dropoff_longitude  0\n",
       "dropoff_latitude   0\n",
       "passenger_count    0"
      ]
     },
     "execution_count": 42,
     "metadata": {},
     "output_type": "execute_result"
    }
   ],
   "source": [
    " pd.DataFrame(cab_tr.isnull().sum())"
   ]
  },
  {
   "cell_type": "code",
   "execution_count": 43,
   "metadata": {},
   "outputs": [],
   "source": [
    "#convert the data type of categorical variable passenger count\n",
    "cab_tr['passenger_count']=cab_tr['passenger_count'].astype('int')\n",
    "cab_tr['passenger_count']=cab_tr['passenger_count'].astype('category')"
   ]
  },
  {
   "cell_type": "code",
   "execution_count": 44,
   "metadata": {},
   "outputs": [
    {
     "data": {
      "text/plain": [
       "CategoricalDtype(categories=[1, 2, 3, 4, 5, 6], ordered=False)"
      ]
     },
     "execution_count": 44,
     "metadata": {},
     "output_type": "execute_result"
    }
   ],
   "source": [
    "cab_tr['passenger_count'].dtype"
   ]
  },
  {
   "cell_type": "markdown",
   "metadata": {},
   "source": [
    "# feature enginering"
   ]
  },
  {
   "cell_type": "code",
   "execution_count": 45,
   "metadata": {},
   "outputs": [],
   "source": [
    "#calculate the distance \n",
    "# with help of haversine formula\n",
    "#haversine function\n",
    "\n",
    "def haversine(lat1, lon1, lat2, lon2, to_radians=True, earth_radius=6371):\n",
    "   \n",
    "    if to_radians:\n",
    "        lat1, lon1, lat2, lon2 = np.radians([lat1, lon1, lat2, lon2])\n",
    "\n",
    "    a = np.sin((lat2-lat1)/2.0)**2 + \\\n",
    "        np.cos(lat1) * np.cos(lat2) * np.sin((lon2-lon1)/2.0)**2\n",
    "\n",
    "    return earth_radius * 2 * np.arcsin(np.sqrt(a))"
   ]
  },
  {
   "cell_type": "code",
   "execution_count": 46,
   "metadata": {},
   "outputs": [],
   "source": [
    "#apply function to the  data\n",
    "cab_tr['Distance'] = \\\n",
    "    haversine( cab_tr['pickup_latitude'], cab_tr['pickup_longitude'],\n",
    "                cab_tr['dropoff_latitude'], cab_tr['dropoff_longitude'])"
   ]
  },
  {
   "cell_type": "markdown",
   "metadata": {},
   "source": [
    "feture slection\n",
    "Testing correlation and multi colinearity of data\n"
   ]
  },
  {
   "cell_type": "code",
   "execution_count": 47,
   "metadata": {},
   "outputs": [],
   "source": [
    "#Correlation analysis\n",
    "#Correlation plot\n",
    "numeric=['fare_amount','pickup_longitude','pickup_latitude','dropoff_longitude','dropoff_latitude', 'Distance']\n",
    "cab_tr_corr = cab_tr.loc[:,numeric]"
   ]
  },
  {
   "cell_type": "code",
   "execution_count": 48,
   "metadata": {},
   "outputs": [
    {
     "name": "stdout",
     "output_type": "stream",
     "text": [
      "                   fare_amount  pickup_longitude  pickup_latitude  \\\n",
      "fare_amount           1.000000         -0.048793        -0.057861   \n",
      "pickup_longitude     -0.048793          1.000000         0.667883   \n",
      "pickup_latitude      -0.057861          0.667883         1.000000   \n",
      "dropoff_longitude     0.047996          0.364514         0.293342   \n",
      "dropoff_latitude     -0.077377          0.318350         0.442597   \n",
      "Distance              0.670142         -0.045910        -0.081076   \n",
      "\n",
      "                   dropoff_longitude  dropoff_latitude  Distance  \n",
      "fare_amount                 0.047996         -0.077377  0.670142  \n",
      "pickup_longitude            0.364514          0.318350 -0.045910  \n",
      "pickup_latitude             0.293342          0.442597 -0.081076  \n",
      "dropoff_longitude           1.000000          0.595164  0.063220  \n",
      "dropoff_latitude            0.595164          1.000000 -0.061677  \n",
      "Distance                    0.063220         -0.061677  1.000000  \n"
     ]
    },
    {
     "data": {
      "text/plain": [
       "<matplotlib.axes._subplots.AxesSubplot at 0x260cf30aef0>"
      ]
     },
     "execution_count": 48,
     "metadata": {},
     "output_type": "execute_result"
    },
    {
     "data": {
      "image/png": "[encoded data removed]",
      "text/plain": [
       "<Figure size 504x360 with 2 Axes>"
      ]
     },
     "metadata": {
      "needs_background": "light"
     },
     "output_type": "display_data"
    }
   ],
   "source": [
    "#Set the width and hieght of the plot\n",
    "f, ax = plt.subplots(figsize=(7, 5))\n",
    "\n",
    "#Generate correlation matrix\n",
    "corr = cab_tr_corr.corr()\n",
    "print(corr)\n",
    "\n",
    "#Plotted using seaborn library\n",
    "sns.heatmap(corr, mask=np.zeros_like(corr, dtype=np.bool), cmap=sns.diverging_palette(220, 10, as_cmap=True),\n",
    "            square=True, ax=ax)"
   ]
  },
  {
   "cell_type": "code",
   "execution_count": 49,
   "metadata": {},
   "outputs": [],
   "source": [
    "#eliminate all data with the pickup and drop location points as same\n",
    "\n",
    "cab_tr=cab_tr[np.logical_and(cab_tr['pickup_longitude'] != cab_tr['dropoff_longitude'],\n",
    "                                     cab_tr['pickup_latitude'] != cab_tr['dropoff_latitude'])]"
   ]
  },
  {
   "cell_type": "code",
   "execution_count": 50,
   "metadata": {},
   "outputs": [
    {
     "data": {
      "text/plain": [
       "(array([1.000e+00, 0.000e+00, 1.000e+00, 0.000e+00, 0.000e+00, 4.300e+01,\n",
       "        6.200e+01, 3.960e+02, 4.740e+02, 6.540e+02, 7.490e+02, 8.070e+02,\n",
       "        8.100e+02, 4.480e+02, 1.157e+03, 7.010e+02, 6.630e+02, 6.560e+02,\n",
       "        6.150e+02, 5.530e+02, 5.140e+02, 6.470e+02, 4.140e+02, 3.880e+02,\n",
       "        3.300e+02, 2.910e+02, 1.400e+02, 3.770e+02, 2.430e+02, 2.010e+02,\n",
       "        1.620e+02, 1.490e+02, 1.790e+02, 1.400e+02, 2.080e+02, 1.450e+02,\n",
       "        1.210e+02, 1.040e+02, 7.900e+01, 4.100e+01, 1.100e+02, 7.900e+01,\n",
       "        7.200e+01, 6.900e+01, 6.200e+01, 5.700e+01, 7.800e+01, 5.600e+01,\n",
       "        4.600e+01, 3.900e+01, 3.800e+01, 4.400e+01, 1.600e+01, 4.500e+01,\n",
       "        3.600e+01, 4.600e+01, 2.300e+01, 3.300e+01, 3.500e+01, 2.200e+01,\n",
       "        3.700e+01, 2.600e+01, 2.900e+01, 1.600e+01, 1.800e+01]),\n",
       " array([1.00000000e-02, 4.71384615e-01, 9.32769231e-01, 1.39415385e+00,\n",
       "        1.85553846e+00, 2.31692308e+00, 2.77830769e+00, 3.23969231e+00,\n",
       "        3.70107692e+00, 4.16246154e+00, 4.62384615e+00, 5.08523077e+00,\n",
       "        5.54661538e+00, 6.00800000e+00, 6.46938462e+00, 6.93076923e+00,\n",
       "        7.39215385e+00, 7.85353846e+00, 8.31492308e+00, 8.77630769e+00,\n",
       "        9.23769231e+00, 9.69907692e+00, 1.01604615e+01, 1.06218462e+01,\n",
       "        1.10832308e+01, 1.15446154e+01, 1.20060000e+01, 1.24673846e+01,\n",
       "        1.29287692e+01, 1.33901538e+01, 1.38515385e+01, 1.43129231e+01,\n",
       "        1.47743077e+01, 1.52356923e+01, 1.56970769e+01, 1.61584615e+01,\n",
       "        1.66198462e+01, 1.70812308e+01, 1.75426154e+01, 1.80040000e+01,\n",
       "        1.84653846e+01, 1.89267692e+01, 1.93881538e+01, 1.98495385e+01,\n",
       "        2.03109231e+01, 2.07723077e+01, 2.12336923e+01, 2.16950769e+01,\n",
       "        2.21564615e+01, 2.26178462e+01, 2.30792308e+01, 2.35406154e+01,\n",
       "        2.40020000e+01, 2.44633846e+01, 2.49247692e+01, 2.53861538e+01,\n",
       "        2.58475385e+01, 2.63089231e+01, 2.67703077e+01, 2.72316923e+01,\n",
       "        2.76930769e+01, 2.81544615e+01, 2.86158462e+01, 2.90772308e+01,\n",
       "        2.95386154e+01, 3.00000000e+01]),\n",
       " <a list of 65 Patch objects>)"
      ]
     },
     "execution_count": 50,
     "metadata": {},
     "output_type": "execute_result"
    },
    {
     "data": {
      "image/png": "[encoded data removed]",
      "text/plain": [
       "<Figure size 432x288 with 1 Axes>"
      ]
     },
     "metadata": {
      "needs_background": "light"
     },
     "output_type": "display_data"
    }
   ],
   "source": [
    "#ploting graph for distribution \n",
    "%matplotlib inline  \n",
    "plt.hist(cab_tr['fare_amount'], bins='auto')"
   ]
  },
  {
   "cell_type": "code",
   "execution_count": 51,
   "metadata": {
    "scrolled": true
   },
   "outputs": [
    {
     "data": {
      "text/plain": [
       "(array([164., 123., 264., 505., 676., 851., 860., 915., 874., 761., 717.,\n",
       "        682., 607., 598., 531., 505., 449., 427., 371., 328., 308., 311.,\n",
       "        266., 221., 227., 187., 206., 168., 172., 151., 153., 124.,  96.,\n",
       "         96.,  95.,  88.,  96.,  80.,  63.,  78.,  55.,  37.,  37.,  42.,\n",
       "         28.,  24.,  17.,  13.,  16.,  14.,  19.,  13.,  11.,   8.,   7.,\n",
       "         10.,   7.,   3.,   8.,   5.,   7.,   3.,   2.,   2.,   5.,   1.,\n",
       "          0.,   2.,   2.,   1.,   1.,   0.,   0.,   1.]),\n",
       " array([2.01868456e-04, 1.67891039e-01, 3.35580209e-01, 5.03269380e-01,\n",
       "        6.70958550e-01, 8.38647721e-01, 1.00633689e+00, 1.17402606e+00,\n",
       "        1.34171523e+00, 1.50940440e+00, 1.67709357e+00, 1.84478274e+00,\n",
       "        2.01247191e+00, 2.18016108e+00, 2.34785026e+00, 2.51553943e+00,\n",
       "        2.68322860e+00, 2.85091777e+00, 3.01860694e+00, 3.18629611e+00,\n",
       "        3.35398528e+00, 3.52167445e+00, 3.68936362e+00, 3.85705279e+00,\n",
       "        4.02474196e+00, 4.19243113e+00, 4.36012030e+00, 4.52780947e+00,\n",
       "        4.69549864e+00, 4.86318781e+00, 5.03087698e+00, 5.19856615e+00,\n",
       "        5.36625532e+00, 5.53394449e+00, 5.70163367e+00, 5.86932284e+00,\n",
       "        6.03701201e+00, 6.20470118e+00, 6.37239035e+00, 6.54007952e+00,\n",
       "        6.70776869e+00, 6.87545786e+00, 7.04314703e+00, 7.21083620e+00,\n",
       "        7.37852537e+00, 7.54621454e+00, 7.71390371e+00, 7.88159288e+00,\n",
       "        8.04928205e+00, 8.21697122e+00, 8.38466039e+00, 8.55234956e+00,\n",
       "        8.72003873e+00, 8.88772790e+00, 9.05541708e+00, 9.22310625e+00,\n",
       "        9.39079542e+00, 9.55848459e+00, 9.72617376e+00, 9.89386293e+00,\n",
       "        1.00615521e+01, 1.02292413e+01, 1.03969304e+01, 1.05646196e+01,\n",
       "        1.07323088e+01, 1.08999980e+01, 1.10676871e+01, 1.12353763e+01,\n",
       "        1.14030655e+01, 1.15707546e+01, 1.17384438e+01, 1.19061330e+01,\n",
       "        1.20738221e+01, 1.22415113e+01, 1.24092005e+01]),\n",
       " <a list of 74 Patch objects>)"
      ]
     },
     "execution_count": 51,
     "metadata": {},
     "output_type": "execute_result"
    },
    {
     "data": {
      "image/png": "[encoded data removed]",
      "text/plain": [
       "<Figure size 432x288 with 1 Axes>"
      ]
     },
     "metadata": {
      "needs_background": "light"
     },
     "output_type": "display_data"
    }
   ],
   "source": [
    "%matplotlib inline  \n",
    "plt.hist(cab_tr['Distance'], bins='auto')"
   ]
  },
  {
   "cell_type": "markdown",
   "metadata": {},
   "source": [
    "right skeewd both Distance and fare amount"
   ]
  },
  {
   "cell_type": "markdown",
   "metadata": {},
   "source": [
    "# Model Development"
   ]
  },
  {
   "cell_type": "markdown",
   "metadata": {},
   "source": [
    "DECISION TREE"
   ]
  },
  {
   "cell_type": "code",
   "execution_count": 52,
   "metadata": {},
   "outputs": [],
   "source": [
    "#Load libraries\n",
    "from sklearn.model_selection import train_test_split\n",
    "from sklearn.tree import DecisionTreeRegressor"
   ]
  },
  {
   "cell_type": "code",
   "execution_count": 53,
   "metadata": {},
   "outputs": [],
   "source": [
    "# Divide the data into train and test\n",
    "train1, test1 = train_test_split(cab_tr, test_size=0.2)"
   ]
  },
  {
   "cell_type": "code",
   "execution_count": 54,
   "metadata": {},
   "outputs": [],
   "source": [
    "# Decision tree for regression\n",
    "fit_DT = DecisionTreeRegressor(max_depth=2).fit(train1.iloc[:, 1:7], train1.iloc[:,0])"
   ]
  },
  {
   "cell_type": "code",
   "execution_count": 55,
   "metadata": {},
   "outputs": [
    {
     "data": {
      "text/plain": [
       "DecisionTreeRegressor(criterion='mse', max_depth=2, max_features=None,\n",
       "                      max_leaf_nodes=None, min_impurity_decrease=0.0,\n",
       "                      min_impurity_split=None, min_samples_leaf=1,\n",
       "                      min_samples_split=2, min_weight_fraction_leaf=0.0,\n",
       "                      presort=False, random_state=None, splitter='best')"
      ]
     },
     "execution_count": 55,
     "metadata": {},
     "output_type": "execute_result"
    }
   ],
   "source": [
    "fit_DT"
   ]
  },
  {
   "cell_type": "code",
   "execution_count": 56,
   "metadata": {},
   "outputs": [],
   "source": [
    "#Apply model on test data\n",
    "predictions_DT = fit_DT.predict(test1.iloc[:,1:7])"
   ]
  },
  {
   "cell_type": "code",
   "execution_count": 57,
   "metadata": {},
   "outputs": [
    {
     "data": {
      "text/plain": [
       "array([ 9.03569692, 12.13155914,  9.03569692, ...,  6.41195109,\n",
       "       12.13155914,  6.41195109])"
      ]
     },
     "execution_count": 57,
     "metadata": {},
     "output_type": "execute_result"
    }
   ],
   "source": [
    "#Apply model on test data\n",
    "predictions_DT"
   ]
  },
  {
   "cell_type": "code",
   "execution_count": 58,
   "metadata": {},
   "outputs": [],
   "source": [
    "#Calculate MAPE\n",
    "def MAPE(y_true, y_pred): \n",
    "    mape = np.mean(np.abs((y_true - y_pred) / y_true))*100\n",
    "    return mape"
   ]
  },
  {
   "cell_type": "code",
   "execution_count": 59,
   "metadata": {},
   "outputs": [
    {
     "data": {
      "text/plain": [
       "29.92841367123023"
      ]
     },
     "execution_count": 59,
     "metadata": {},
     "output_type": "execute_result"
    }
   ],
   "source": [
    "MAPE(test1.iloc[:,0], predictions_DT)"
   ]
  },
  {
   "cell_type": "code",
   "execution_count": 62,
   "metadata": {},
   "outputs": [],
   "source": [
    "#Error rate =29.92841367123023\n",
    "#Accuracy rate = 70.07158632876977"
   ]
  },
  {
   "cell_type": "markdown",
   "metadata": {},
   "source": [
    "RANDOM FOREST"
   ]
  },
  {
   "cell_type": "code",
   "execution_count": 63,
   "metadata": {},
   "outputs": [],
   "source": [
    "#Random Forest\n",
    "from sklearn.ensemble import RandomForestRegressor"
   ]
  },
  {
   "cell_type": "code",
   "execution_count": 64,
   "metadata": {},
   "outputs": [],
   "source": [
    "RF_model = RandomForestRegressor(n_estimators = 10).fit(train1.iloc[:, 1:7], train1.iloc[:,0])"
   ]
  },
  {
   "cell_type": "code",
   "execution_count": 65,
   "metadata": {
    "scrolled": true
   },
   "outputs": [
    {
     "data": {
      "text/plain": [
       "RandomForestRegressor(bootstrap=True, criterion='mse', max_depth=None,\n",
       "                      max_features='auto', max_leaf_nodes=None,\n",
       "                      min_impurity_decrease=0.0, min_impurity_split=None,\n",
       "                      min_samples_leaf=1, min_samples_split=2,\n",
       "                      min_weight_fraction_leaf=0.0, n_estimators=10,\n",
       "                      n_jobs=None, oob_score=False, random_state=None,\n",
       "                      verbose=0, warm_start=False)"
      ]
     },
     "execution_count": 65,
     "metadata": {},
     "output_type": "execute_result"
    }
   ],
   "source": [
    "RF_model"
   ]
  },
  {
   "cell_type": "code",
   "execution_count": 66,
   "metadata": {},
   "outputs": [],
   "source": [
    "RF_Predictions = RF_model.predict(test1.iloc[:, 1:7])"
   ]
  },
  {
   "cell_type": "code",
   "execution_count": 67,
   "metadata": {},
   "outputs": [
    {
     "data": {
      "text/plain": [
       "array([10.58,  9.72, 10.03, ...,  6.56, 10.21,  4.73])"
      ]
     },
     "execution_count": 67,
     "metadata": {},
     "output_type": "execute_result"
    }
   ],
   "source": [
    "RF_Predictions"
   ]
  },
  {
   "cell_type": "code",
   "execution_count": 68,
   "metadata": {},
   "outputs": [
    {
     "data": {
      "text/plain": [
       "25.141362147213382"
      ]
     },
     "execution_count": 68,
     "metadata": {},
     "output_type": "execute_result"
    }
   ],
   "source": [
    "MAPE(test1.iloc[:,0], RF_Predictions)"
   ]
  },
  {
   "cell_type": "code",
   "execution_count": 71,
   "metadata": {},
   "outputs": [
    {
     "data": {
      "text/plain": [
       "74.85863785278661"
      ]
     },
     "execution_count": 71,
     "metadata": {},
     "output_type": "execute_result"
    }
   ],
   "source": [
    "#Error Rate= 25.141362147213382 \n",
    "#Accuracy Rate =74.85863785278661\n"
   ]
  },
  {
   "cell_type": "markdown",
   "metadata": {},
   "source": [
    "LINEAR REGRESSION"
   ]
  },
  {
   "cell_type": "code",
   "execution_count": 72,
   "metadata": {},
   "outputs": [],
   "source": [
    "#Combine all the values in one array\n",
    "values=['fare_amount', 'pickup_longitude','pickup_latitude', 'dropoff_longitude', 'dropoff_latitude', 'Distance']"
   ]
  },
  {
   "cell_type": "code",
   "execution_count": 73,
   "metadata": {},
   "outputs": [],
   "source": [
    "linear_Data = cab_tr[values]"
   ]
  },
  {
   "cell_type": "code",
   "execution_count": 74,
   "metadata": {},
   "outputs": [],
   "source": [
    "#This function is developed to get columns for specific passenger count. The idea is developed from R linear regression fit, \n",
    "#which explains all the passenger count individualy contributes in the model \n",
    "\n",
    "cat_names = ['passenger_count'] \n",
    "for i in cat_names:\n",
    "    temp = pd.get_dummies(cab_tr[i], prefix= i)\n",
    "    linear_Data = linear_Data.join(temp)"
   ]
  },
  {
   "cell_type": "code",
   "execution_count": 75,
   "metadata": {},
   "outputs": [
    {
     "data": {
      "text/plain": [
       "(14795, 12)"
      ]
     },
     "execution_count": 75,
     "metadata": {},
     "output_type": "execute_result"
    }
   ],
   "source": [
    "linear_Data.shape"
   ]
  },
  {
   "cell_type": "code",
   "execution_count": 76,
   "metadata": {},
   "outputs": [
    {
     "data": {
      "text/html": [
       "<div>\n",
       "<style scoped>\n",
       "    .dataframe tbody tr th:only-of-type {\n",
       "        vertical-align: middle;\n",
       "    }\n",
       "\n",
       "    .dataframe tbody tr th {\n",
       "        vertical-align: top;\n",
       "    }\n",
       "\n",
       "    .dataframe thead th {\n",
       "        text-align: right;\n",
       "    }\n",
       "</style>\n",
       "<table border=\"1\" class=\"dataframe\">\n",
       "  <thead>\n",
       "    <tr style=\"text-align: right;\">\n",
       "      <th></th>\n",
       "      <th>fare_amount</th>\n",
       "      <th>pickup_longitude</th>\n",
       "      <th>pickup_latitude</th>\n",
       "      <th>dropoff_longitude</th>\n",
       "      <th>dropoff_latitude</th>\n",
       "      <th>Distance</th>\n",
       "      <th>passenger_count_1</th>\n",
       "      <th>passenger_count_2</th>\n",
       "      <th>passenger_count_3</th>\n",
       "      <th>passenger_count_4</th>\n",
       "      <th>passenger_count_5</th>\n",
       "      <th>passenger_count_6</th>\n",
       "    </tr>\n",
       "  </thead>\n",
       "  <tbody>\n",
       "    <tr>\n",
       "      <th>0</th>\n",
       "      <td>4.5</td>\n",
       "      <td>-73.981698</td>\n",
       "      <td>40.721319</td>\n",
       "      <td>-73.980230</td>\n",
       "      <td>40.712278</td>\n",
       "      <td>1.012897</td>\n",
       "      <td>1</td>\n",
       "      <td>0</td>\n",
       "      <td>0</td>\n",
       "      <td>0</td>\n",
       "      <td>0</td>\n",
       "      <td>0</td>\n",
       "    </tr>\n",
       "    <tr>\n",
       "      <th>1</th>\n",
       "      <td>16.9</td>\n",
       "      <td>-74.016048</td>\n",
       "      <td>40.711303</td>\n",
       "      <td>-73.979268</td>\n",
       "      <td>40.782004</td>\n",
       "      <td>8.450134</td>\n",
       "      <td>1</td>\n",
       "      <td>0</td>\n",
       "      <td>0</td>\n",
       "      <td>0</td>\n",
       "      <td>0</td>\n",
       "      <td>0</td>\n",
       "    </tr>\n",
       "    <tr>\n",
       "      <th>2</th>\n",
       "      <td>5.7</td>\n",
       "      <td>-73.982738</td>\n",
       "      <td>40.761270</td>\n",
       "      <td>-73.991242</td>\n",
       "      <td>40.750562</td>\n",
       "      <td>1.389525</td>\n",
       "      <td>0</td>\n",
       "      <td>1</td>\n",
       "      <td>0</td>\n",
       "      <td>0</td>\n",
       "      <td>0</td>\n",
       "      <td>0</td>\n",
       "    </tr>\n",
       "    <tr>\n",
       "      <th>3</th>\n",
       "      <td>7.7</td>\n",
       "      <td>-73.987130</td>\n",
       "      <td>40.733143</td>\n",
       "      <td>-73.991567</td>\n",
       "      <td>40.758092</td>\n",
       "      <td>2.799270</td>\n",
       "      <td>1</td>\n",
       "      <td>0</td>\n",
       "      <td>0</td>\n",
       "      <td>0</td>\n",
       "      <td>0</td>\n",
       "      <td>0</td>\n",
       "    </tr>\n",
       "    <tr>\n",
       "      <th>4</th>\n",
       "      <td>5.3</td>\n",
       "      <td>-73.968095</td>\n",
       "      <td>40.768008</td>\n",
       "      <td>-73.956655</td>\n",
       "      <td>40.783762</td>\n",
       "      <td>1.999157</td>\n",
       "      <td>1</td>\n",
       "      <td>0</td>\n",
       "      <td>0</td>\n",
       "      <td>0</td>\n",
       "      <td>0</td>\n",
       "      <td>0</td>\n",
       "    </tr>\n",
       "  </tbody>\n",
       "</table>\n",
       "</div>"
      ],
      "text/plain": [
       "   fare_amount  pickup_longitude  pickup_latitude  dropoff_longitude  \\\n",
       "0          4.5        -73.981698        40.721319         -73.980230   \n",
       "1         16.9        -74.016048        40.711303         -73.979268   \n",
       "2          5.7        -73.982738        40.761270         -73.991242   \n",
       "3          7.7        -73.987130        40.733143         -73.991567   \n",
       "4          5.3        -73.968095        40.768008         -73.956655   \n",
       "\n",
       "   dropoff_latitude  Distance  passenger_count_1  passenger_count_2  \\\n",
       "0         40.712278  1.012897                  1                  0   \n",
       "1         40.782004  8.450134                  1                  0   \n",
       "2         40.750562  1.389525                  0                  1   \n",
       "3         40.758092  2.799270                  1                  0   \n",
       "4         40.783762  1.999157                  1                  0   \n",
       "\n",
       "   passenger_count_3  passenger_count_4  passenger_count_5  passenger_count_6  \n",
       "0                  0                  0                  0                  0  \n",
       "1                  0                  0                  0                  0  \n",
       "2                  0                  0                  0                  0  \n",
       "3                  0                  0                  0                  0  \n",
       "4                  0                  0                  0                  0  "
      ]
     },
     "execution_count": 76,
     "metadata": {},
     "output_type": "execute_result"
    }
   ],
   "source": [
    "linear_Data.head()"
   ]
  },
  {
   "cell_type": "code",
   "execution_count": 77,
   "metadata": {},
   "outputs": [],
   "source": [
    "#Spliting the newly created data set with passenger count dummies\n",
    "train1, test1 = train_test_split(linear_Data, test_size=0.2)"
   ]
  },
  {
   "cell_type": "code",
   "execution_count": 78,
   "metadata": {},
   "outputs": [],
   "source": [
    "#Import libraries for LR\n",
    "import statsmodels.api as sm"
   ]
  },
  {
   "cell_type": "code",
   "execution_count": 79,
   "metadata": {},
   "outputs": [],
   "source": [
    "# Train the model using the training sets\n",
    "model = sm.OLS(train1.iloc[:, 0].astype(float), train1.iloc[:, 1:12].astype(float)).fit()"
   ]
  },
  {
   "cell_type": "code",
   "execution_count": 82,
   "metadata": {},
   "outputs": [
    {
     "data": {
      "text/html": [
       "<table class=\"simpletable\">\n",
       "<caption>OLS Regression Results</caption>\n",
       "<tr>\n",
       "  <th>Dep. Variable:</th>       <td>fare_amount</td>   <th>  R-squared:         </th> <td>   0.452</td> \n",
       "</tr>\n",
       "<tr>\n",
       "  <th>Model:</th>                   <td>OLS</td>       <th>  Adj. R-squared:    </th> <td>   0.452</td> \n",
       "</tr>\n",
       "<tr>\n",
       "  <th>Method:</th>             <td>Least Squares</td>  <th>  F-statistic:       </th> <td>   976.1</td> \n",
       "</tr>\n",
       "<tr>\n",
       "  <th>Date:</th>             <td>Mon, 23 Dec 2019</td> <th>  Prob (F-statistic):</th>  <td>  0.00</td>  \n",
       "</tr>\n",
       "<tr>\n",
       "  <th>Time:</th>                 <td>14:18:49</td>     <th>  Log-Likelihood:    </th> <td> -32741.</td> \n",
       "</tr>\n",
       "<tr>\n",
       "  <th>No. Observations:</th>      <td> 11836</td>      <th>  AIC:               </th> <td>6.550e+04</td>\n",
       "</tr>\n",
       "<tr>\n",
       "  <th>Df Residuals:</th>          <td> 11825</td>      <th>  BIC:               </th> <td>6.559e+04</td>\n",
       "</tr>\n",
       "<tr>\n",
       "  <th>Df Model:</th>              <td>    10</td>      <th>                     </th>     <td> </td>    \n",
       "</tr>\n",
       "<tr>\n",
       "  <th>Covariance Type:</th>      <td>nonrobust</td>    <th>                     </th>     <td> </td>    \n",
       "</tr>\n",
       "</table>\n",
       "<table class=\"simpletable\">\n",
       "<tr>\n",
       "          <td></td>             <th>coef</th>     <th>std err</th>      <th>t</th>      <th>P>|t|</th>  <th>[0.025</th>    <th>0.975]</th>  \n",
       "</tr>\n",
       "<tr>\n",
       "  <th>pickup_longitude</th>  <td>  -15.7194</td> <td>    3.074</td> <td>   -5.113</td> <td> 0.000</td> <td>  -21.746</td> <td>   -9.693</td>\n",
       "</tr>\n",
       "<tr>\n",
       "  <th>pickup_latitude</th>   <td>   11.2445</td> <td>    2.380</td> <td>    4.724</td> <td> 0.000</td> <td>    6.579</td> <td>   15.910</td>\n",
       "</tr>\n",
       "<tr>\n",
       "  <th>dropoff_longitude</th> <td>   14.7687</td> <td>    2.710</td> <td>    5.449</td> <td> 0.000</td> <td>    9.456</td> <td>   20.082</td>\n",
       "</tr>\n",
       "<tr>\n",
       "  <th>dropoff_latitude</th>  <td>  -15.8372</td> <td>    2.120</td> <td>   -7.470</td> <td> 0.000</td> <td>  -19.993</td> <td>  -11.682</td>\n",
       "</tr>\n",
       "<tr>\n",
       "  <th>Distance</th>          <td>    2.0030</td> <td>    0.021</td> <td>   96.203</td> <td> 0.000</td> <td>    1.962</td> <td>    2.044</td>\n",
       "</tr>\n",
       "<tr>\n",
       "  <th>passenger_count_1</th> <td>  121.3985</td> <td>  341.997</td> <td>    0.355</td> <td> 0.723</td> <td> -548.972</td> <td>  791.769</td>\n",
       "</tr>\n",
       "<tr>\n",
       "  <th>passenger_count_2</th> <td>  121.4710</td> <td>  341.999</td> <td>    0.355</td> <td> 0.722</td> <td> -548.903</td> <td>  791.845</td>\n",
       "</tr>\n",
       "<tr>\n",
       "  <th>passenger_count_3</th> <td>  121.5921</td> <td>  342.002</td> <td>    0.356</td> <td> 0.722</td> <td> -548.789</td> <td>  791.973</td>\n",
       "</tr>\n",
       "<tr>\n",
       "  <th>passenger_count_4</th> <td>  121.5679</td> <td>  342.001</td> <td>    0.355</td> <td> 0.722</td> <td> -548.811</td> <td>  791.947</td>\n",
       "</tr>\n",
       "<tr>\n",
       "  <th>passenger_count_5</th> <td>  121.3005</td> <td>  341.999</td> <td>    0.355</td> <td> 0.723</td> <td> -549.073</td> <td>  791.674</td>\n",
       "</tr>\n",
       "<tr>\n",
       "  <th>passenger_count_6</th> <td>  122.5210</td> <td>  341.998</td> <td>    0.358</td> <td> 0.720</td> <td> -547.851</td> <td>  792.893</td>\n",
       "</tr>\n",
       "</table>\n",
       "<table class=\"simpletable\">\n",
       "<tr>\n",
       "  <th>Omnibus:</th>       <td>5882.065</td> <th>  Durbin-Watson:     </th> <td>   1.961</td> \n",
       "</tr>\n",
       "<tr>\n",
       "  <th>Prob(Omnibus):</th>  <td> 0.000</td>  <th>  Jarque-Bera (JB):  </th> <td>42278.071</td>\n",
       "</tr>\n",
       "<tr>\n",
       "  <th>Skew:</th>           <td> 2.295</td>  <th>  Prob(JB):          </th> <td>    0.00</td> \n",
       "</tr>\n",
       "<tr>\n",
       "  <th>Kurtosis:</th>       <td>11.041</td>  <th>  Cond. No.          </th> <td>2.83e+06</td> \n",
       "</tr>\n",
       "</table><br/><br/>Warnings:<br/>[1] Standard Errors assume that the covariance matrix of the errors is correctly specified.<br/>[2] The condition number is large, 2.83e+06. This might indicate that there are<br/>strong multicollinearity or other numerical problems."
      ],
      "text/plain": [
       "<class 'statsmodels.iolib.summary.Summary'>\n",
       "\"\"\"\n",
       "                            OLS Regression Results                            \n",
       "==============================================================================\n",
       "Dep. Variable:            fare_amount   R-squared:                       0.452\n",
       "Model:                            OLS   Adj. R-squared:                  0.452\n",
       "Method:                 Least Squares   F-statistic:                     976.1\n",
       "Date:                Mon, 23 Dec 2019   Prob (F-statistic):               0.00\n",
       "Time:                        14:18:49   Log-Likelihood:                -32741.\n",
       "No. Observations:               11836   AIC:                         6.550e+04\n",
       "Df Residuals:                   11825   BIC:                         6.559e+04\n",
       "Df Model:                          10                                         \n",
       "Covariance Type:            nonrobust                                         \n",
       "=====================================================================================\n",
       "                        coef    std err          t      P>|t|      [0.025      0.975]\n",
       "-------------------------------------------------------------------------------------\n",
       "pickup_longitude    -15.7194      3.074     -5.113      0.000     -21.746      -9.693\n",
       "pickup_latitude      11.2445      2.380      4.724      0.000       6.579      15.910\n",
       "dropoff_longitude    14.7687      2.710      5.449      0.000       9.456      20.082\n",
       "dropoff_latitude    -15.8372      2.120     -7.470      0.000     -19.993     -11.682\n",
       "Distance              2.0030      0.021     96.203      0.000       1.962       2.044\n",
       "passenger_count_1   121.3985    341.997      0.355      0.723    -548.972     791.769\n",
       "passenger_count_2   121.4710    341.999      0.355      0.722    -548.903     791.845\n",
       "passenger_count_3   121.5921    342.002      0.356      0.722    -548.789     791.973\n",
       "passenger_count_4   121.5679    342.001      0.355      0.722    -548.811     791.947\n",
       "passenger_count_5   121.3005    341.999      0.355      0.723    -549.073     791.674\n",
       "passenger_count_6   122.5210    341.998      0.358      0.720    -547.851     792.893\n",
       "==============================================================================\n",
       "Omnibus:                     5882.065   Durbin-Watson:                   1.961\n",
       "Prob(Omnibus):                  0.000   Jarque-Bera (JB):            42278.071\n",
       "Skew:                           2.295   Prob(JB):                         0.00\n",
       "Kurtosis:                      11.041   Cond. No.                     2.83e+06\n",
       "==============================================================================\n",
       "\n",
       "Warnings:\n",
       "[1] Standard Errors assume that the covariance matrix of the errors is correctly specified.\n",
       "[2] The condition number is large, 2.83e+06. This might indicate that there are\n",
       "strong multicollinearity or other numerical problems.\n",
       "\"\"\""
      ]
     },
     "execution_count": 82,
     "metadata": {},
     "output_type": "execute_result"
    }
   ],
   "source": [
    "# Print out the statistics\n",
    "model.summary()"
   ]
  },
  {
   "cell_type": "code",
   "execution_count": 80,
   "metadata": {},
   "outputs": [],
   "source": [
    "#make the predictions by the model\n",
    "predictions_LR = model.predict(test1.iloc[:,1:12])"
   ]
  },
  {
   "cell_type": "code",
   "execution_count": 81,
   "metadata": {},
   "outputs": [
    {
     "data": {
      "text/plain": [
       "9226     15.721057\n",
       "10513    12.703888\n",
       "15753     9.437513\n",
       "12575     6.906785\n",
       "4109     14.263653\n",
       "4742      6.609435\n",
       "12401     8.902731\n",
       "14377     8.614302\n",
       "6275     10.021583\n",
       "352       7.930056\n",
       "10400     6.874812\n",
       "8339      5.551934\n",
       "8375      5.951566\n",
       "15814     7.344189\n",
       "12669     9.561687\n",
       "8477      6.867844\n",
       "7941      8.931820\n",
       "4324      5.805686\n",
       "14139    10.123361\n",
       "1964      5.914778\n",
       "2083      9.143299\n",
       "10295     7.450295\n",
       "15965     6.520367\n",
       "6776      7.278697\n",
       "15507    19.243673\n",
       "3483      9.000537\n",
       "1128     20.474954\n",
       "1781      6.296259\n",
       "12334     9.035687\n",
       "6250      7.560356\n",
       "           ...    \n",
       "1572     19.855183\n",
       "14257    15.773581\n",
       "15253     5.810352\n",
       "3040      8.686728\n",
       "10609     8.197532\n",
       "12143    14.625882\n",
       "12052     6.826609\n",
       "28       11.335818\n",
       "6958      9.883014\n",
       "13767    10.406787\n",
       "15211     9.149517\n",
       "10546     7.467018\n",
       "8159     18.674505\n",
       "14682     7.866297\n",
       "1530      5.358070\n",
       "13925     9.249356\n",
       "623       8.018461\n",
       "8666      6.445259\n",
       "4050      7.557537\n",
       "10482     8.924689\n",
       "3829     19.506127\n",
       "9001      7.648649\n",
       "9119      6.243074\n",
       "15202     6.348297\n",
       "4355      6.394582\n",
       "1461      9.791472\n",
       "9581      6.935650\n",
       "9656      9.102359\n",
       "14274    10.303517\n",
       "9587      8.529680\n",
       "Length: 2959, dtype: float64"
      ]
     },
     "execution_count": 81,
     "metadata": {},
     "output_type": "execute_result"
    }
   ],
   "source": [
    "predictions_LR"
   ]
  },
  {
   "cell_type": "code",
   "execution_count": 83,
   "metadata": {},
   "outputs": [
    {
     "data": {
      "text/plain": [
       "26.814478088303616"
      ]
     },
     "execution_count": 83,
     "metadata": {},
     "output_type": "execute_result"
    }
   ],
   "source": [
    "#Calculate MAPE\n",
    "MAPE(test1.iloc[:,0], predictions_LR)"
   ]
  },
  {
   "cell_type": "code",
   "execution_count": 89,
   "metadata": {},
   "outputs": [
    {
     "data": {
      "text/plain": [
       "73.18552191169638"
      ]
     },
     "execution_count": 89,
     "metadata": {},
     "output_type": "execute_result"
    }
   ],
   "source": [
    "# Error Rate=26.814478088303616\n",
    "#Accuracy Rate =73.18552191169638 \n",
    "100-26.814478088303616"
   ]
  },
  {
   "cell_type": "markdown",
   "metadata": {},
   "source": [
    " KNN Imputation"
   ]
  },
  {
   "cell_type": "code",
   "execution_count": 85,
   "metadata": {},
   "outputs": [],
   "source": [
    "#KNN implementation\n",
    "from sklearn.neighbors import KNeighborsRegressor\n",
    "\n",
    "KNN_model = KNeighborsRegressor(n_neighbors = 1).fit(train1.iloc[: , 1:7], train1.iloc[:, 0])"
   ]
  },
  {
   "cell_type": "code",
   "execution_count": 86,
   "metadata": {},
   "outputs": [],
   "source": [
    "#predict test cases\n",
    "KNN_Predictions = KNN_model.predict(test1.iloc[: , 1:7])"
   ]
  },
  {
   "cell_type": "code",
   "execution_count": 87,
   "metadata": {},
   "outputs": [
    {
     "data": {
      "text/plain": [
       "array([15.3, 11.5,  6.9, ...,  9.7,  8.9,  6.1])"
      ]
     },
     "execution_count": 87,
     "metadata": {},
     "output_type": "execute_result"
    }
   ],
   "source": [
    "KNN_Predictions "
   ]
  },
  {
   "cell_type": "code",
   "execution_count": 88,
   "metadata": {},
   "outputs": [
    {
     "data": {
      "text/plain": [
       "33.96770745236633"
      ]
     },
     "execution_count": 88,
     "metadata": {},
     "output_type": "execute_result"
    }
   ],
   "source": [
    "MAPE(test1.iloc[:,0], KNN_Predictions)"
   ]
  },
  {
   "cell_type": "code",
   "execution_count": 90,
   "metadata": {},
   "outputs": [
    {
     "data": {
      "text/plain": [
       "66.03229254763367"
      ]
     },
     "execution_count": 90,
     "metadata": {},
     "output_type": "execute_result"
    }
   ],
   "source": [
    "#Error Rate = 33.96770745236633\n",
    "#Accuracy Rate =66.03229254763367\n",
    "100-33.96770745236633"
   ]
  },
  {
   "cell_type": "markdown",
   "metadata": {},
   "source": [
    "# Prediction on original test data"
   ]
  },
  {
   "cell_type": "code",
   "execution_count": 91,
   "metadata": {},
   "outputs": [],
   "source": [
    "pred=(pd.read_csv('test.csv', header = 0 )).drop(columns=\"pickup_datetime\")"
   ]
  },
  {
   "cell_type": "code",
   "execution_count": 92,
   "metadata": {},
   "outputs": [],
   "source": [
    "#create Dist variable\n",
    "pred['Distance'] = \\\n",
    "    haversine( pred['pickup_latitude'], pred['pickup_longitude'],\n",
    "                 pred['dropoff_latitude'], pred['dropoff_longitude'])\n",
    "\n",
    "pred['fare_amount']=0\n",
    "pred['passenger_count']=pred['passenger_count'].astype('category')"
   ]
  },
  {
   "cell_type": "code",
   "execution_count": 93,
   "metadata": {},
   "outputs": [
    {
     "data": {
      "text/html": [
       "<div>\n",
       "<style scoped>\n",
       "    .dataframe tbody tr th:only-of-type {\n",
       "        vertical-align: middle;\n",
       "    }\n",
       "\n",
       "    .dataframe tbody tr th {\n",
       "        vertical-align: top;\n",
       "    }\n",
       "\n",
       "    .dataframe thead th {\n",
       "        text-align: right;\n",
       "    }\n",
       "</style>\n",
       "<table border=\"1\" class=\"dataframe\">\n",
       "  <thead>\n",
       "    <tr style=\"text-align: right;\">\n",
       "      <th></th>\n",
       "      <th>pickup_longitude</th>\n",
       "      <th>pickup_latitude</th>\n",
       "      <th>dropoff_longitude</th>\n",
       "      <th>dropoff_latitude</th>\n",
       "      <th>passenger_count</th>\n",
       "      <th>Distance</th>\n",
       "      <th>fare_amount</th>\n",
       "    </tr>\n",
       "  </thead>\n",
       "  <tbody>\n",
       "    <tr>\n",
       "      <th>0</th>\n",
       "      <td>-73.973320</td>\n",
       "      <td>40.763805</td>\n",
       "      <td>-73.981430</td>\n",
       "      <td>40.743835</td>\n",
       "      <td>1</td>\n",
       "      <td>2.323259</td>\n",
       "      <td>0</td>\n",
       "    </tr>\n",
       "    <tr>\n",
       "      <th>1</th>\n",
       "      <td>-73.986862</td>\n",
       "      <td>40.719383</td>\n",
       "      <td>-73.998886</td>\n",
       "      <td>40.739201</td>\n",
       "      <td>1</td>\n",
       "      <td>2.425353</td>\n",
       "      <td>0</td>\n",
       "    </tr>\n",
       "    <tr>\n",
       "      <th>2</th>\n",
       "      <td>-73.982524</td>\n",
       "      <td>40.751260</td>\n",
       "      <td>-73.979654</td>\n",
       "      <td>40.746139</td>\n",
       "      <td>1</td>\n",
       "      <td>0.618628</td>\n",
       "      <td>0</td>\n",
       "    </tr>\n",
       "    <tr>\n",
       "      <th>3</th>\n",
       "      <td>-73.981160</td>\n",
       "      <td>40.767807</td>\n",
       "      <td>-73.990448</td>\n",
       "      <td>40.751635</td>\n",
       "      <td>1</td>\n",
       "      <td>1.961033</td>\n",
       "      <td>0</td>\n",
       "    </tr>\n",
       "    <tr>\n",
       "      <th>4</th>\n",
       "      <td>-73.966046</td>\n",
       "      <td>40.789775</td>\n",
       "      <td>-73.988565</td>\n",
       "      <td>40.744427</td>\n",
       "      <td>1</td>\n",
       "      <td>5.387301</td>\n",
       "      <td>0</td>\n",
       "    </tr>\n",
       "    <tr>\n",
       "      <th>5</th>\n",
       "      <td>-73.960983</td>\n",
       "      <td>40.765547</td>\n",
       "      <td>-73.979177</td>\n",
       "      <td>40.740053</td>\n",
       "      <td>1</td>\n",
       "      <td>3.222549</td>\n",
       "      <td>0</td>\n",
       "    </tr>\n",
       "    <tr>\n",
       "      <th>6</th>\n",
       "      <td>-73.949013</td>\n",
       "      <td>40.773204</td>\n",
       "      <td>-73.959622</td>\n",
       "      <td>40.770893</td>\n",
       "      <td>1</td>\n",
       "      <td>0.929601</td>\n",
       "      <td>0</td>\n",
       "    </tr>\n",
       "    <tr>\n",
       "      <th>7</th>\n",
       "      <td>-73.777282</td>\n",
       "      <td>40.646636</td>\n",
       "      <td>-73.985083</td>\n",
       "      <td>40.759368</td>\n",
       "      <td>1</td>\n",
       "      <td>21.540102</td>\n",
       "      <td>0</td>\n",
       "    </tr>\n",
       "    <tr>\n",
       "      <th>8</th>\n",
       "      <td>-74.014099</td>\n",
       "      <td>40.709638</td>\n",
       "      <td>-73.995106</td>\n",
       "      <td>40.741365</td>\n",
       "      <td>1</td>\n",
       "      <td>3.873962</td>\n",
       "      <td>0</td>\n",
       "    </tr>\n",
       "    <tr>\n",
       "      <th>9</th>\n",
       "      <td>-73.969582</td>\n",
       "      <td>40.765519</td>\n",
       "      <td>-73.980686</td>\n",
       "      <td>40.770725</td>\n",
       "      <td>1</td>\n",
       "      <td>1.099794</td>\n",
       "      <td>0</td>\n",
       "    </tr>\n",
       "    <tr>\n",
       "      <th>10</th>\n",
       "      <td>-73.989374</td>\n",
       "      <td>40.741973</td>\n",
       "      <td>-73.999300</td>\n",
       "      <td>40.722534</td>\n",
       "      <td>1</td>\n",
       "      <td>2.317685</td>\n",
       "      <td>0</td>\n",
       "    </tr>\n",
       "    <tr>\n",
       "      <th>11</th>\n",
       "      <td>-74.001614</td>\n",
       "      <td>40.740893</td>\n",
       "      <td>-73.956387</td>\n",
       "      <td>40.767437</td>\n",
       "      <td>1</td>\n",
       "      <td>4.819179</td>\n",
       "      <td>0</td>\n",
       "    </tr>\n",
       "    <tr>\n",
       "      <th>12</th>\n",
       "      <td>-73.991198</td>\n",
       "      <td>40.739937</td>\n",
       "      <td>-73.997166</td>\n",
       "      <td>40.735269</td>\n",
       "      <td>1</td>\n",
       "      <td>0.722670</td>\n",
       "      <td>0</td>\n",
       "    </tr>\n",
       "    <tr>\n",
       "      <th>13</th>\n",
       "      <td>-73.982034</td>\n",
       "      <td>40.762723</td>\n",
       "      <td>-74.001867</td>\n",
       "      <td>40.761545</td>\n",
       "      <td>1</td>\n",
       "      <td>1.675503</td>\n",
       "      <td>0</td>\n",
       "    </tr>\n",
       "    <tr>\n",
       "      <th>14</th>\n",
       "      <td>-73.992455</td>\n",
       "      <td>40.728701</td>\n",
       "      <td>-73.983397</td>\n",
       "      <td>40.750149</td>\n",
       "      <td>1</td>\n",
       "      <td>2.504032</td>\n",
       "      <td>0</td>\n",
       "    </tr>\n",
       "    <tr>\n",
       "      <th>15</th>\n",
       "      <td>-73.983583</td>\n",
       "      <td>40.746993</td>\n",
       "      <td>-73.951178</td>\n",
       "      <td>40.785903</td>\n",
       "      <td>1</td>\n",
       "      <td>5.115375</td>\n",
       "      <td>0</td>\n",
       "    </tr>\n",
       "    <tr>\n",
       "      <th>16</th>\n",
       "      <td>-74.006746</td>\n",
       "      <td>40.731721</td>\n",
       "      <td>-74.010204</td>\n",
       "      <td>40.732318</td>\n",
       "      <td>1</td>\n",
       "      <td>0.298838</td>\n",
       "      <td>0</td>\n",
       "    </tr>\n",
       "    <tr>\n",
       "      <th>17</th>\n",
       "      <td>-73.976446</td>\n",
       "      <td>40.785598</td>\n",
       "      <td>-73.952220</td>\n",
       "      <td>40.772121</td>\n",
       "      <td>1</td>\n",
       "      <td>2.531147</td>\n",
       "      <td>0</td>\n",
       "    </tr>\n",
       "    <tr>\n",
       "      <th>18</th>\n",
       "      <td>-73.973548</td>\n",
       "      <td>40.763349</td>\n",
       "      <td>-73.972096</td>\n",
       "      <td>40.756417</td>\n",
       "      <td>1</td>\n",
       "      <td>0.780444</td>\n",
       "      <td>0</td>\n",
       "    </tr>\n",
       "    <tr>\n",
       "      <th>19</th>\n",
       "      <td>-73.970918</td>\n",
       "      <td>40.756025</td>\n",
       "      <td>-73.975954</td>\n",
       "      <td>40.755563</td>\n",
       "      <td>1</td>\n",
       "      <td>0.427282</td>\n",
       "      <td>0</td>\n",
       "    </tr>\n",
       "    <tr>\n",
       "      <th>20</th>\n",
       "      <td>-73.926071</td>\n",
       "      <td>40.705866</td>\n",
       "      <td>-73.941741</td>\n",
       "      <td>40.714789</td>\n",
       "      <td>1</td>\n",
       "      <td>1.651946</td>\n",
       "      <td>0</td>\n",
       "    </tr>\n",
       "    <tr>\n",
       "      <th>21</th>\n",
       "      <td>-73.970555</td>\n",
       "      <td>40.764702</td>\n",
       "      <td>-73.949132</td>\n",
       "      <td>40.771800</td>\n",
       "      <td>1</td>\n",
       "      <td>1.969211</td>\n",
       "      <td>0</td>\n",
       "    </tr>\n",
       "    <tr>\n",
       "      <th>22</th>\n",
       "      <td>-73.989102</td>\n",
       "      <td>40.736360</td>\n",
       "      <td>-73.992767</td>\n",
       "      <td>40.747767</td>\n",
       "      <td>1</td>\n",
       "      <td>1.305441</td>\n",
       "      <td>0</td>\n",
       "    </tr>\n",
       "    <tr>\n",
       "      <th>23</th>\n",
       "      <td>-74.003525</td>\n",
       "      <td>40.748480</td>\n",
       "      <td>-73.991520</td>\n",
       "      <td>40.762960</td>\n",
       "      <td>1</td>\n",
       "      <td>1.901295</td>\n",
       "      <td>0</td>\n",
       "    </tr>\n",
       "    <tr>\n",
       "      <th>24</th>\n",
       "      <td>-73.990352</td>\n",
       "      <td>40.759992</td>\n",
       "      <td>-74.015665</td>\n",
       "      <td>40.711682</td>\n",
       "      <td>1</td>\n",
       "      <td>5.779720</td>\n",
       "      <td>0</td>\n",
       "    </tr>\n",
       "    <tr>\n",
       "      <th>25</th>\n",
       "      <td>-73.989482</td>\n",
       "      <td>40.757450</td>\n",
       "      <td>-74.000850</td>\n",
       "      <td>40.762705</td>\n",
       "      <td>1</td>\n",
       "      <td>1.121687</td>\n",
       "      <td>0</td>\n",
       "    </tr>\n",
       "    <tr>\n",
       "      <th>26</th>\n",
       "      <td>-73.870785</td>\n",
       "      <td>40.773722</td>\n",
       "      <td>-73.741922</td>\n",
       "      <td>40.689945</td>\n",
       "      <td>1</td>\n",
       "      <td>14.306540</td>\n",
       "      <td>0</td>\n",
       "    </tr>\n",
       "    <tr>\n",
       "      <th>27</th>\n",
       "      <td>-73.992682</td>\n",
       "      <td>40.733877</td>\n",
       "      <td>-73.938852</td>\n",
       "      <td>40.808220</td>\n",
       "      <td>1</td>\n",
       "      <td>9.427870</td>\n",
       "      <td>0</td>\n",
       "    </tr>\n",
       "    <tr>\n",
       "      <th>28</th>\n",
       "      <td>-73.954020</td>\n",
       "      <td>40.778705</td>\n",
       "      <td>-73.950277</td>\n",
       "      <td>40.768810</td>\n",
       "      <td>1</td>\n",
       "      <td>1.144529</td>\n",
       "      <td>0</td>\n",
       "    </tr>\n",
       "    <tr>\n",
       "      <th>29</th>\n",
       "      <td>-73.972742</td>\n",
       "      <td>40.743432</td>\n",
       "      <td>-74.007125</td>\n",
       "      <td>40.710192</td>\n",
       "      <td>1</td>\n",
       "      <td>4.696371</td>\n",
       "      <td>0</td>\n",
       "    </tr>\n",
       "    <tr>\n",
       "      <th>...</th>\n",
       "      <td>...</td>\n",
       "      <td>...</td>\n",
       "      <td>...</td>\n",
       "      <td>...</td>\n",
       "      <td>...</td>\n",
       "      <td>...</td>\n",
       "      <td>...</td>\n",
       "    </tr>\n",
       "    <tr>\n",
       "      <th>9884</th>\n",
       "      <td>-73.790022</td>\n",
       "      <td>40.643817</td>\n",
       "      <td>-73.735688</td>\n",
       "      <td>40.773400</td>\n",
       "      <td>6</td>\n",
       "      <td>15.119293</td>\n",
       "      <td>0</td>\n",
       "    </tr>\n",
       "    <tr>\n",
       "      <th>9885</th>\n",
       "      <td>-74.007878</td>\n",
       "      <td>40.722762</td>\n",
       "      <td>-73.965740</td>\n",
       "      <td>40.754505</td>\n",
       "      <td>6</td>\n",
       "      <td>5.006239</td>\n",
       "      <td>0</td>\n",
       "    </tr>\n",
       "    <tr>\n",
       "      <th>9886</th>\n",
       "      <td>-73.978852</td>\n",
       "      <td>40.752837</td>\n",
       "      <td>-73.941152</td>\n",
       "      <td>40.812722</td>\n",
       "      <td>6</td>\n",
       "      <td>7.376754</td>\n",
       "      <td>0</td>\n",
       "    </tr>\n",
       "    <tr>\n",
       "      <th>9887</th>\n",
       "      <td>-73.959087</td>\n",
       "      <td>40.783282</td>\n",
       "      <td>-73.978802</td>\n",
       "      <td>40.785655</td>\n",
       "      <td>6</td>\n",
       "      <td>1.680721</td>\n",
       "      <td>0</td>\n",
       "    </tr>\n",
       "    <tr>\n",
       "      <th>9888</th>\n",
       "      <td>-73.956488</td>\n",
       "      <td>40.767512</td>\n",
       "      <td>-73.956488</td>\n",
       "      <td>40.767512</td>\n",
       "      <td>6</td>\n",
       "      <td>0.000000</td>\n",
       "      <td>0</td>\n",
       "    </tr>\n",
       "    <tr>\n",
       "      <th>9889</th>\n",
       "      <td>-73.966650</td>\n",
       "      <td>40.714675</td>\n",
       "      <td>-73.971912</td>\n",
       "      <td>40.693667</td>\n",
       "      <td>6</td>\n",
       "      <td>2.377723</td>\n",
       "      <td>0</td>\n",
       "    </tr>\n",
       "    <tr>\n",
       "      <th>9890</th>\n",
       "      <td>-73.976602</td>\n",
       "      <td>40.754152</td>\n",
       "      <td>-73.993297</td>\n",
       "      <td>40.730887</td>\n",
       "      <td>6</td>\n",
       "      <td>2.944581</td>\n",
       "      <td>0</td>\n",
       "    </tr>\n",
       "    <tr>\n",
       "      <th>9891</th>\n",
       "      <td>-73.987185</td>\n",
       "      <td>40.760505</td>\n",
       "      <td>-73.938755</td>\n",
       "      <td>40.799507</td>\n",
       "      <td>6</td>\n",
       "      <td>5.952839</td>\n",
       "      <td>0</td>\n",
       "    </tr>\n",
       "    <tr>\n",
       "      <th>9892</th>\n",
       "      <td>-73.969175</td>\n",
       "      <td>40.757770</td>\n",
       "      <td>-73.952318</td>\n",
       "      <td>40.781030</td>\n",
       "      <td>6</td>\n",
       "      <td>2.950361</td>\n",
       "      <td>0</td>\n",
       "    </tr>\n",
       "    <tr>\n",
       "      <th>9893</th>\n",
       "      <td>-73.949657</td>\n",
       "      <td>40.796197</td>\n",
       "      <td>-73.911755</td>\n",
       "      <td>40.827672</td>\n",
       "      <td>6</td>\n",
       "      <td>4.735375</td>\n",
       "      <td>0</td>\n",
       "    </tr>\n",
       "    <tr>\n",
       "      <th>9894</th>\n",
       "      <td>-74.002267</td>\n",
       "      <td>40.730415</td>\n",
       "      <td>-73.990360</td>\n",
       "      <td>40.756807</td>\n",
       "      <td>6</td>\n",
       "      <td>3.101361</td>\n",
       "      <td>0</td>\n",
       "    </tr>\n",
       "    <tr>\n",
       "      <th>9895</th>\n",
       "      <td>-73.985840</td>\n",
       "      <td>40.731167</td>\n",
       "      <td>-73.953883</td>\n",
       "      <td>40.653937</td>\n",
       "      <td>6</td>\n",
       "      <td>9.000325</td>\n",
       "      <td>0</td>\n",
       "    </tr>\n",
       "    <tr>\n",
       "      <th>9896</th>\n",
       "      <td>-73.955490</td>\n",
       "      <td>40.776862</td>\n",
       "      <td>-73.982162</td>\n",
       "      <td>40.769302</td>\n",
       "      <td>6</td>\n",
       "      <td>2.398161</td>\n",
       "      <td>0</td>\n",
       "    </tr>\n",
       "    <tr>\n",
       "      <th>9897</th>\n",
       "      <td>-73.965782</td>\n",
       "      <td>40.805538</td>\n",
       "      <td>-73.982384</td>\n",
       "      <td>40.761600</td>\n",
       "      <td>6</td>\n",
       "      <td>5.081664</td>\n",
       "      <td>0</td>\n",
       "    </tr>\n",
       "    <tr>\n",
       "      <th>9898</th>\n",
       "      <td>-73.979042</td>\n",
       "      <td>40.777515</td>\n",
       "      <td>-73.983658</td>\n",
       "      <td>40.781082</td>\n",
       "      <td>6</td>\n",
       "      <td>0.555287</td>\n",
       "      <td>0</td>\n",
       "    </tr>\n",
       "    <tr>\n",
       "      <th>9899</th>\n",
       "      <td>-73.983238</td>\n",
       "      <td>40.764874</td>\n",
       "      <td>-73.922928</td>\n",
       "      <td>40.743458</td>\n",
       "      <td>6</td>\n",
       "      <td>5.610505</td>\n",
       "      <td>0</td>\n",
       "    </tr>\n",
       "    <tr>\n",
       "      <th>9900</th>\n",
       "      <td>-73.962952</td>\n",
       "      <td>40.772480</td>\n",
       "      <td>-73.976051</td>\n",
       "      <td>40.786289</td>\n",
       "      <td>6</td>\n",
       "      <td>1.890608</td>\n",
       "      <td>0</td>\n",
       "    </tr>\n",
       "    <tr>\n",
       "      <th>9901</th>\n",
       "      <td>-73.977943</td>\n",
       "      <td>40.762753</td>\n",
       "      <td>-73.976219</td>\n",
       "      <td>40.776451</td>\n",
       "      <td>6</td>\n",
       "      <td>1.530118</td>\n",
       "      <td>0</td>\n",
       "    </tr>\n",
       "    <tr>\n",
       "      <th>9902</th>\n",
       "      <td>-73.905525</td>\n",
       "      <td>40.752655</td>\n",
       "      <td>-73.864151</td>\n",
       "      <td>40.737091</td>\n",
       "      <td>6</td>\n",
       "      <td>3.891526</td>\n",
       "      <td>0</td>\n",
       "    </tr>\n",
       "    <tr>\n",
       "      <th>9903</th>\n",
       "      <td>-73.988403</td>\n",
       "      <td>40.738731</td>\n",
       "      <td>-73.992340</td>\n",
       "      <td>40.759193</td>\n",
       "      <td>6</td>\n",
       "      <td>2.299316</td>\n",
       "      <td>0</td>\n",
       "    </tr>\n",
       "    <tr>\n",
       "      <th>9904</th>\n",
       "      <td>-73.776848</td>\n",
       "      <td>40.645035</td>\n",
       "      <td>-73.955460</td>\n",
       "      <td>40.652458</td>\n",
       "      <td>6</td>\n",
       "      <td>15.091262</td>\n",
       "      <td>0</td>\n",
       "    </tr>\n",
       "    <tr>\n",
       "      <th>9905</th>\n",
       "      <td>-73.989647</td>\n",
       "      <td>40.767406</td>\n",
       "      <td>-73.941177</td>\n",
       "      <td>40.845696</td>\n",
       "      <td>6</td>\n",
       "      <td>9.613798</td>\n",
       "      <td>0</td>\n",
       "    </tr>\n",
       "    <tr>\n",
       "      <th>9906</th>\n",
       "      <td>-73.988052</td>\n",
       "      <td>40.720776</td>\n",
       "      <td>-73.991043</td>\n",
       "      <td>40.718346</td>\n",
       "      <td>6</td>\n",
       "      <td>0.369506</td>\n",
       "      <td>0</td>\n",
       "    </tr>\n",
       "    <tr>\n",
       "      <th>9907</th>\n",
       "      <td>-73.863457</td>\n",
       "      <td>40.769611</td>\n",
       "      <td>-73.980995</td>\n",
       "      <td>40.763241</td>\n",
       "      <td>6</td>\n",
       "      <td>9.923998</td>\n",
       "      <td>0</td>\n",
       "    </tr>\n",
       "    <tr>\n",
       "      <th>9908</th>\n",
       "      <td>-73.987968</td>\n",
       "      <td>40.718922</td>\n",
       "      <td>-73.982124</td>\n",
       "      <td>40.732956</td>\n",
       "      <td>6</td>\n",
       "      <td>1.636402</td>\n",
       "      <td>0</td>\n",
       "    </tr>\n",
       "    <tr>\n",
       "      <th>9909</th>\n",
       "      <td>-73.968124</td>\n",
       "      <td>40.796997</td>\n",
       "      <td>-73.955643</td>\n",
       "      <td>40.780388</td>\n",
       "      <td>6</td>\n",
       "      <td>2.124874</td>\n",
       "      <td>0</td>\n",
       "    </tr>\n",
       "    <tr>\n",
       "      <th>9910</th>\n",
       "      <td>-73.945511</td>\n",
       "      <td>40.803600</td>\n",
       "      <td>-73.960213</td>\n",
       "      <td>40.776371</td>\n",
       "      <td>6</td>\n",
       "      <td>3.270969</td>\n",
       "      <td>0</td>\n",
       "    </tr>\n",
       "    <tr>\n",
       "      <th>9911</th>\n",
       "      <td>-73.991600</td>\n",
       "      <td>40.726608</td>\n",
       "      <td>-73.789742</td>\n",
       "      <td>40.647011</td>\n",
       "      <td>6</td>\n",
       "      <td>19.183942</td>\n",
       "      <td>0</td>\n",
       "    </tr>\n",
       "    <tr>\n",
       "      <th>9912</th>\n",
       "      <td>-73.985573</td>\n",
       "      <td>40.735432</td>\n",
       "      <td>-73.939178</td>\n",
       "      <td>40.801731</td>\n",
       "      <td>6</td>\n",
       "      <td>8.343486</td>\n",
       "      <td>0</td>\n",
       "    </tr>\n",
       "    <tr>\n",
       "      <th>9913</th>\n",
       "      <td>-73.988022</td>\n",
       "      <td>40.754070</td>\n",
       "      <td>-74.000282</td>\n",
       "      <td>40.759220</td>\n",
       "      <td>6</td>\n",
       "      <td>1.180825</td>\n",
       "      <td>0</td>\n",
       "    </tr>\n",
       "  </tbody>\n",
       "</table>\n",
       "<p>9914 rows × 7 columns</p>\n",
       "</div>"
      ],
      "text/plain": [
       "      pickup_longitude  pickup_latitude  dropoff_longitude  dropoff_latitude  \\\n",
       "0           -73.973320        40.763805         -73.981430         40.743835   \n",
       "1           -73.986862        40.719383         -73.998886         40.739201   \n",
       "2           -73.982524        40.751260         -73.979654         40.746139   \n",
       "3           -73.981160        40.767807         -73.990448         40.751635   \n",
       "4           -73.966046        40.789775         -73.988565         40.744427   \n",
       "5           -73.960983        40.765547         -73.979177         40.740053   \n",
       "6           -73.949013        40.773204         -73.959622         40.770893   \n",
       "7           -73.777282        40.646636         -73.985083         40.759368   \n",
       "8           -74.014099        40.709638         -73.995106         40.741365   \n",
       "9           -73.969582        40.765519         -73.980686         40.770725   \n",
       "10          -73.989374        40.741973         -73.999300         40.722534   \n",
       "11          -74.001614        40.740893         -73.956387         40.767437   \n",
       "12          -73.991198        40.739937         -73.997166         40.735269   \n",
       "13          -73.982034        40.762723         -74.001867         40.761545   \n",
       "14          -73.992455        40.728701         -73.983397         40.750149   \n",
       "15          -73.983583        40.746993         -73.951178         40.785903   \n",
       "16          -74.006746        40.731721         -74.010204         40.732318   \n",
       "17          -73.976446        40.785598         -73.952220         40.772121   \n",
       "18          -73.973548        40.763349         -73.972096         40.756417   \n",
       "19          -73.970918        40.756025         -73.975954         40.755563   \n",
       "20          -73.926071        40.705866         -73.941741         40.714789   \n",
       "21          -73.970555        40.764702         -73.949132         40.771800   \n",
       "22          -73.989102        40.736360         -73.992767         40.747767   \n",
       "23          -74.003525        40.748480         -73.991520         40.762960   \n",
       "24          -73.990352        40.759992         -74.015665         40.711682   \n",
       "25          -73.989482        40.757450         -74.000850         40.762705   \n",
       "26          -73.870785        40.773722         -73.741922         40.689945   \n",
       "27          -73.992682        40.733877         -73.938852         40.808220   \n",
       "28          -73.954020        40.778705         -73.950277         40.768810   \n",
       "29          -73.972742        40.743432         -74.007125         40.710192   \n",
       "...                ...              ...                ...               ...   \n",
       "9884        -73.790022        40.643817         -73.735688         40.773400   \n",
       "9885        -74.007878        40.722762         -73.965740         40.754505   \n",
       "9886        -73.978852        40.752837         -73.941152         40.812722   \n",
       "9887        -73.959087        40.783282         -73.978802         40.785655   \n",
       "9888        -73.956488        40.767512         -73.956488         40.767512   \n",
       "9889        -73.966650        40.714675         -73.971912         40.693667   \n",
       "9890        -73.976602        40.754152         -73.993297         40.730887   \n",
       "9891        -73.987185        40.760505         -73.938755         40.799507   \n",
       "9892        -73.969175        40.757770         -73.952318         40.781030   \n",
       "9893        -73.949657        40.796197         -73.911755         40.827672   \n",
       "9894        -74.002267        40.730415         -73.990360         40.756807   \n",
       "9895        -73.985840        40.731167         -73.953883         40.653937   \n",
       "9896        -73.955490        40.776862         -73.982162         40.769302   \n",
       "9897        -73.965782        40.805538         -73.982384         40.761600   \n",
       "9898        -73.979042        40.777515         -73.983658         40.781082   \n",
       "9899        -73.983238        40.764874         -73.922928         40.743458   \n",
       "9900        -73.962952        40.772480         -73.976051         40.786289   \n",
       "9901        -73.977943        40.762753         -73.976219         40.776451   \n",
       "9902        -73.905525        40.752655         -73.864151         40.737091   \n",
       "9903        -73.988403        40.738731         -73.992340         40.759193   \n",
       "9904        -73.776848        40.645035         -73.955460         40.652458   \n",
       "9905        -73.989647        40.767406         -73.941177         40.845696   \n",
       "9906        -73.988052        40.720776         -73.991043         40.718346   \n",
       "9907        -73.863457        40.769611         -73.980995         40.763241   \n",
       "9908        -73.987968        40.718922         -73.982124         40.732956   \n",
       "9909        -73.968124        40.796997         -73.955643         40.780388   \n",
       "9910        -73.945511        40.803600         -73.960213         40.776371   \n",
       "9911        -73.991600        40.726608         -73.789742         40.647011   \n",
       "9912        -73.985573        40.735432         -73.939178         40.801731   \n",
       "9913        -73.988022        40.754070         -74.000282         40.759220   \n",
       "\n",
       "     passenger_count   Distance  fare_amount  \n",
       "0                  1   2.323259            0  \n",
       "1                  1   2.425353            0  \n",
       "2                  1   0.618628            0  \n",
       "3                  1   1.961033            0  \n",
       "4                  1   5.387301            0  \n",
       "5                  1   3.222549            0  \n",
       "6                  1   0.929601            0  \n",
       "7                  1  21.540102            0  \n",
       "8                  1   3.873962            0  \n",
       "9                  1   1.099794            0  \n",
       "10                 1   2.317685            0  \n",
       "11                 1   4.819179            0  \n",
       "12                 1   0.722670            0  \n",
       "13                 1   1.675503            0  \n",
       "14                 1   2.504032            0  \n",
       "15                 1   5.115375            0  \n",
       "16                 1   0.298838            0  \n",
       "17                 1   2.531147            0  \n",
       "18                 1   0.780444            0  \n",
       "19                 1   0.427282            0  \n",
       "20                 1   1.651946            0  \n",
       "21                 1   1.969211            0  \n",
       "22                 1   1.305441            0  \n",
       "23                 1   1.901295            0  \n",
       "24                 1   5.779720            0  \n",
       "25                 1   1.121687            0  \n",
       "26                 1  14.306540            0  \n",
       "27                 1   9.427870            0  \n",
       "28                 1   1.144529            0  \n",
       "29                 1   4.696371            0  \n",
       "...              ...        ...          ...  \n",
       "9884               6  15.119293            0  \n",
       "9885               6   5.006239            0  \n",
       "9886               6   7.376754            0  \n",
       "9887               6   1.680721            0  \n",
       "9888               6   0.000000            0  \n",
       "9889               6   2.377723            0  \n",
       "9890               6   2.944581            0  \n",
       "9891               6   5.952839            0  \n",
       "9892               6   2.950361            0  \n",
       "9893               6   4.735375            0  \n",
       "9894               6   3.101361            0  \n",
       "9895               6   9.000325            0  \n",
       "9896               6   2.398161            0  \n",
       "9897               6   5.081664            0  \n",
       "9898               6   0.555287            0  \n",
       "9899               6   5.610505            0  \n",
       "9900               6   1.890608            0  \n",
       "9901               6   1.530118            0  \n",
       "9902               6   3.891526            0  \n",
       "9903               6   2.299316            0  \n",
       "9904               6  15.091262            0  \n",
       "9905               6   9.613798            0  \n",
       "9906               6   0.369506            0  \n",
       "9907               6   9.923998            0  \n",
       "9908               6   1.636402            0  \n",
       "9909               6   2.124874            0  \n",
       "9910               6   3.270969            0  \n",
       "9911               6  19.183942            0  \n",
       "9912               6   8.343486            0  \n",
       "9913               6   1.180825            0  \n",
       "\n",
       "[9914 rows x 7 columns]"
      ]
     },
     "execution_count": 93,
     "metadata": {},
     "output_type": "execute_result"
    }
   ],
   "source": [
    "pred"
   ]
  },
  {
   "cell_type": "code",
   "execution_count": 94,
   "metadata": {},
   "outputs": [],
   "source": [
    "# Train the model using the training sets\n",
    "RF_model = RandomForestRegressor(n_estimators = 10).fit(cab_tr.iloc[:, 1:7], cab_tr.iloc[:,0])"
   ]
  },
  {
   "cell_type": "code",
   "execution_count": 95,
   "metadata": {},
   "outputs": [
    {
     "data": {
      "text/plain": [
       "RandomForestRegressor(bootstrap=True, criterion='mse', max_depth=None,\n",
       "                      max_features='auto', max_leaf_nodes=None,\n",
       "                      min_impurity_decrease=0.0, min_impurity_split=None,\n",
       "                      min_samples_leaf=1, min_samples_split=2,\n",
       "                      min_weight_fraction_leaf=0.0, n_estimators=10,\n",
       "                      n_jobs=None, oob_score=False, random_state=None,\n",
       "                      verbose=0, warm_start=False)"
      ]
     },
     "execution_count": 95,
     "metadata": {},
     "output_type": "execute_result"
    }
   ],
   "source": [
    "# Print out the statistics\n",
    "RF_model"
   ]
  },
  {
   "cell_type": "code",
   "execution_count": 96,
   "metadata": {},
   "outputs": [],
   "source": [
    "# make the predictions by the model\n",
    "pred['fare_amount'] =  RF_model.predict(pred.iloc[:, 0:6])"
   ]
  },
  {
   "cell_type": "code",
   "execution_count": 97,
   "metadata": {},
   "outputs": [
    {
     "data": {
      "text/html": [
       "<div>\n",
       "<style scoped>\n",
       "    .dataframe tbody tr th:only-of-type {\n",
       "        vertical-align: middle;\n",
       "    }\n",
       "\n",
       "    .dataframe tbody tr th {\n",
       "        vertical-align: top;\n",
       "    }\n",
       "\n",
       "    .dataframe thead th {\n",
       "        text-align: right;\n",
       "    }\n",
       "</style>\n",
       "<table border=\"1\" class=\"dataframe\">\n",
       "  <thead>\n",
       "    <tr style=\"text-align: right;\">\n",
       "      <th></th>\n",
       "      <th>pickup_longitude</th>\n",
       "      <th>pickup_latitude</th>\n",
       "      <th>dropoff_longitude</th>\n",
       "      <th>dropoff_latitude</th>\n",
       "      <th>passenger_count</th>\n",
       "      <th>Distance</th>\n",
       "      <th>fare_amount</th>\n",
       "    </tr>\n",
       "  </thead>\n",
       "  <tbody>\n",
       "    <tr>\n",
       "      <th>0</th>\n",
       "      <td>-73.973320</td>\n",
       "      <td>40.763805</td>\n",
       "      <td>-73.981430</td>\n",
       "      <td>40.743835</td>\n",
       "      <td>1</td>\n",
       "      <td>2.323259</td>\n",
       "      <td>10.50</td>\n",
       "    </tr>\n",
       "    <tr>\n",
       "      <th>1</th>\n",
       "      <td>-73.986862</td>\n",
       "      <td>40.719383</td>\n",
       "      <td>-73.998886</td>\n",
       "      <td>40.739201</td>\n",
       "      <td>1</td>\n",
       "      <td>2.425353</td>\n",
       "      <td>10.75</td>\n",
       "    </tr>\n",
       "    <tr>\n",
       "      <th>2</th>\n",
       "      <td>-73.982524</td>\n",
       "      <td>40.751260</td>\n",
       "      <td>-73.979654</td>\n",
       "      <td>40.746139</td>\n",
       "      <td>1</td>\n",
       "      <td>0.618628</td>\n",
       "      <td>4.35</td>\n",
       "    </tr>\n",
       "    <tr>\n",
       "      <th>3</th>\n",
       "      <td>-73.981160</td>\n",
       "      <td>40.767807</td>\n",
       "      <td>-73.990448</td>\n",
       "      <td>40.751635</td>\n",
       "      <td>1</td>\n",
       "      <td>1.961033</td>\n",
       "      <td>10.08</td>\n",
       "    </tr>\n",
       "    <tr>\n",
       "      <th>4</th>\n",
       "      <td>-73.966046</td>\n",
       "      <td>40.789775</td>\n",
       "      <td>-73.988565</td>\n",
       "      <td>40.744427</td>\n",
       "      <td>1</td>\n",
       "      <td>5.387301</td>\n",
       "      <td>14.74</td>\n",
       "    </tr>\n",
       "  </tbody>\n",
       "</table>\n",
       "</div>"
      ],
      "text/plain": [
       "   pickup_longitude  pickup_latitude  dropoff_longitude  dropoff_latitude  \\\n",
       "0        -73.973320        40.763805         -73.981430         40.743835   \n",
       "1        -73.986862        40.719383         -73.998886         40.739201   \n",
       "2        -73.982524        40.751260         -73.979654         40.746139   \n",
       "3        -73.981160        40.767807         -73.990448         40.751635   \n",
       "4        -73.966046        40.789775         -73.988565         40.744427   \n",
       "\n",
       "  passenger_count  Distance  fare_amount  \n",
       "0               1  2.323259        10.50  \n",
       "1               1  2.425353        10.75  \n",
       "2               1  0.618628         4.35  \n",
       "3               1  1.961033        10.08  \n",
       "4               1  5.387301        14.74  "
      ]
     },
     "execution_count": 97,
     "metadata": {},
     "output_type": "execute_result"
    }
   ],
   "source": [
    "pred.head()"
   ]
  },
  {
   "cell_type": "code",
   "execution_count": 98,
   "metadata": {},
   "outputs": [],
   "source": [
    "#write output to csv\n",
    "pred.to_csv(\"Predicted_Values.csv\", index = False)"
   ]
  },
  {
   "cell_type": "code",
   "execution_count": 99,
   "metadata": {},
   "outputs": [
    {
     "data": {
      "text/html": [
       "<div>\n",
       "<style scoped>\n",
       "    .dataframe tbody tr th:only-of-type {\n",
       "        vertical-align: middle;\n",
       "    }\n",
       "\n",
       "    .dataframe tbody tr th {\n",
       "        vertical-align: top;\n",
       "    }\n",
       "\n",
       "    .dataframe thead th {\n",
       "        text-align: right;\n",
       "    }\n",
       "</style>\n",
       "<table border=\"1\" class=\"dataframe\">\n",
       "  <thead>\n",
       "    <tr style=\"text-align: right;\">\n",
       "      <th></th>\n",
       "      <th>pickup_longitude</th>\n",
       "      <th>pickup_latitude</th>\n",
       "      <th>dropoff_longitude</th>\n",
       "      <th>dropoff_latitude</th>\n",
       "      <th>passenger_count</th>\n",
       "      <th>Distance</th>\n",
       "    </tr>\n",
       "  </thead>\n",
       "  <tbody>\n",
       "    <tr>\n",
       "      <th>0</th>\n",
       "      <td>-73.973320</td>\n",
       "      <td>40.763805</td>\n",
       "      <td>-73.981430</td>\n",
       "      <td>40.743835</td>\n",
       "      <td>1</td>\n",
       "      <td>2.323259</td>\n",
       "    </tr>\n",
       "    <tr>\n",
       "      <th>1</th>\n",
       "      <td>-73.986862</td>\n",
       "      <td>40.719383</td>\n",
       "      <td>-73.998886</td>\n",
       "      <td>40.739201</td>\n",
       "      <td>1</td>\n",
       "      <td>2.425353</td>\n",
       "    </tr>\n",
       "    <tr>\n",
       "      <th>2</th>\n",
       "      <td>-73.982524</td>\n",
       "      <td>40.751260</td>\n",
       "      <td>-73.979654</td>\n",
       "      <td>40.746139</td>\n",
       "      <td>1</td>\n",
       "      <td>0.618628</td>\n",
       "    </tr>\n",
       "    <tr>\n",
       "      <th>3</th>\n",
       "      <td>-73.981160</td>\n",
       "      <td>40.767807</td>\n",
       "      <td>-73.990448</td>\n",
       "      <td>40.751635</td>\n",
       "      <td>1</td>\n",
       "      <td>1.961033</td>\n",
       "    </tr>\n",
       "    <tr>\n",
       "      <th>4</th>\n",
       "      <td>-73.966046</td>\n",
       "      <td>40.789775</td>\n",
       "      <td>-73.988565</td>\n",
       "      <td>40.744427</td>\n",
       "      <td>1</td>\n",
       "      <td>5.387301</td>\n",
       "    </tr>\n",
       "    <tr>\n",
       "      <th>5</th>\n",
       "      <td>-73.960983</td>\n",
       "      <td>40.765547</td>\n",
       "      <td>-73.979177</td>\n",
       "      <td>40.740053</td>\n",
       "      <td>1</td>\n",
       "      <td>3.222549</td>\n",
       "    </tr>\n",
       "    <tr>\n",
       "      <th>6</th>\n",
       "      <td>-73.949013</td>\n",
       "      <td>40.773204</td>\n",
       "      <td>-73.959622</td>\n",
       "      <td>40.770893</td>\n",
       "      <td>1</td>\n",
       "      <td>0.929601</td>\n",
       "    </tr>\n",
       "    <tr>\n",
       "      <th>7</th>\n",
       "      <td>-73.777282</td>\n",
       "      <td>40.646636</td>\n",
       "      <td>-73.985083</td>\n",
       "      <td>40.759368</td>\n",
       "      <td>1</td>\n",
       "      <td>21.540102</td>\n",
       "    </tr>\n",
       "    <tr>\n",
       "      <th>8</th>\n",
       "      <td>-74.014099</td>\n",
       "      <td>40.709638</td>\n",
       "      <td>-73.995106</td>\n",
       "      <td>40.741365</td>\n",
       "      <td>1</td>\n",
       "      <td>3.873962</td>\n",
       "    </tr>\n",
       "    <tr>\n",
       "      <th>9</th>\n",
       "      <td>-73.969582</td>\n",
       "      <td>40.765519</td>\n",
       "      <td>-73.980686</td>\n",
       "      <td>40.770725</td>\n",
       "      <td>1</td>\n",
       "      <td>1.099794</td>\n",
       "    </tr>\n",
       "    <tr>\n",
       "      <th>10</th>\n",
       "      <td>-73.989374</td>\n",
       "      <td>40.741973</td>\n",
       "      <td>-73.999300</td>\n",
       "      <td>40.722534</td>\n",
       "      <td>1</td>\n",
       "      <td>2.317685</td>\n",
       "    </tr>\n",
       "    <tr>\n",
       "      <th>11</th>\n",
       "      <td>-74.001614</td>\n",
       "      <td>40.740893</td>\n",
       "      <td>-73.956387</td>\n",
       "      <td>40.767437</td>\n",
       "      <td>1</td>\n",
       "      <td>4.819179</td>\n",
       "    </tr>\n",
       "    <tr>\n",
       "      <th>12</th>\n",
       "      <td>-73.991198</td>\n",
       "      <td>40.739937</td>\n",
       "      <td>-73.997166</td>\n",
       "      <td>40.735269</td>\n",
       "      <td>1</td>\n",
       "      <td>0.722670</td>\n",
       "    </tr>\n",
       "    <tr>\n",
       "      <th>13</th>\n",
       "      <td>-73.982034</td>\n",
       "      <td>40.762723</td>\n",
       "      <td>-74.001867</td>\n",
       "      <td>40.761545</td>\n",
       "      <td>1</td>\n",
       "      <td>1.675503</td>\n",
       "    </tr>\n",
       "    <tr>\n",
       "      <th>14</th>\n",
       "      <td>-73.992455</td>\n",
       "      <td>40.728701</td>\n",
       "      <td>-73.983397</td>\n",
       "      <td>40.750149</td>\n",
       "      <td>1</td>\n",
       "      <td>2.504032</td>\n",
       "    </tr>\n",
       "    <tr>\n",
       "      <th>15</th>\n",
       "      <td>-73.983583</td>\n",
       "      <td>40.746993</td>\n",
       "      <td>-73.951178</td>\n",
       "      <td>40.785903</td>\n",
       "      <td>1</td>\n",
       "      <td>5.115375</td>\n",
       "    </tr>\n",
       "    <tr>\n",
       "      <th>16</th>\n",
       "      <td>-74.006746</td>\n",
       "      <td>40.731721</td>\n",
       "      <td>-74.010204</td>\n",
       "      <td>40.732318</td>\n",
       "      <td>1</td>\n",
       "      <td>0.298838</td>\n",
       "    </tr>\n",
       "    <tr>\n",
       "      <th>17</th>\n",
       "      <td>-73.976446</td>\n",
       "      <td>40.785598</td>\n",
       "      <td>-73.952220</td>\n",
       "      <td>40.772121</td>\n",
       "      <td>1</td>\n",
       "      <td>2.531147</td>\n",
       "    </tr>\n",
       "    <tr>\n",
       "      <th>18</th>\n",
       "      <td>-73.973548</td>\n",
       "      <td>40.763349</td>\n",
       "      <td>-73.972096</td>\n",
       "      <td>40.756417</td>\n",
       "      <td>1</td>\n",
       "      <td>0.780444</td>\n",
       "    </tr>\n",
       "    <tr>\n",
       "      <th>19</th>\n",
       "      <td>-73.970918</td>\n",
       "      <td>40.756025</td>\n",
       "      <td>-73.975954</td>\n",
       "      <td>40.755563</td>\n",
       "      <td>1</td>\n",
       "      <td>0.427282</td>\n",
       "    </tr>\n",
       "    <tr>\n",
       "      <th>20</th>\n",
       "      <td>-73.926071</td>\n",
       "      <td>40.705866</td>\n",
       "      <td>-73.941741</td>\n",
       "      <td>40.714789</td>\n",
       "      <td>1</td>\n",
       "      <td>1.651946</td>\n",
       "    </tr>\n",
       "    <tr>\n",
       "      <th>21</th>\n",
       "      <td>-73.970555</td>\n",
       "      <td>40.764702</td>\n",
       "      <td>-73.949132</td>\n",
       "      <td>40.771800</td>\n",
       "      <td>1</td>\n",
       "      <td>1.969211</td>\n",
       "    </tr>\n",
       "    <tr>\n",
       "      <th>22</th>\n",
       "      <td>-73.989102</td>\n",
       "      <td>40.736360</td>\n",
       "      <td>-73.992767</td>\n",
       "      <td>40.747767</td>\n",
       "      <td>1</td>\n",
       "      <td>1.305441</td>\n",
       "    </tr>\n",
       "    <tr>\n",
       "      <th>23</th>\n",
       "      <td>-74.003525</td>\n",
       "      <td>40.748480</td>\n",
       "      <td>-73.991520</td>\n",
       "      <td>40.762960</td>\n",
       "      <td>1</td>\n",
       "      <td>1.901295</td>\n",
       "    </tr>\n",
       "    <tr>\n",
       "      <th>24</th>\n",
       "      <td>-73.990352</td>\n",
       "      <td>40.759992</td>\n",
       "      <td>-74.015665</td>\n",
       "      <td>40.711682</td>\n",
       "      <td>1</td>\n",
       "      <td>5.779720</td>\n",
       "    </tr>\n",
       "    <tr>\n",
       "      <th>25</th>\n",
       "      <td>-73.989482</td>\n",
       "      <td>40.757450</td>\n",
       "      <td>-74.000850</td>\n",
       "      <td>40.762705</td>\n",
       "      <td>1</td>\n",
       "      <td>1.121687</td>\n",
       "    </tr>\n",
       "    <tr>\n",
       "      <th>26</th>\n",
       "      <td>-73.870785</td>\n",
       "      <td>40.773722</td>\n",
       "      <td>-73.741922</td>\n",
       "      <td>40.689945</td>\n",
       "      <td>1</td>\n",
       "      <td>14.306540</td>\n",
       "    </tr>\n",
       "    <tr>\n",
       "      <th>27</th>\n",
       "      <td>-73.992682</td>\n",
       "      <td>40.733877</td>\n",
       "      <td>-73.938852</td>\n",
       "      <td>40.808220</td>\n",
       "      <td>1</td>\n",
       "      <td>9.427870</td>\n",
       "    </tr>\n",
       "    <tr>\n",
       "      <th>28</th>\n",
       "      <td>-73.954020</td>\n",
       "      <td>40.778705</td>\n",
       "      <td>-73.950277</td>\n",
       "      <td>40.768810</td>\n",
       "      <td>1</td>\n",
       "      <td>1.144529</td>\n",
       "    </tr>\n",
       "    <tr>\n",
       "      <th>29</th>\n",
       "      <td>-73.972742</td>\n",
       "      <td>40.743432</td>\n",
       "      <td>-74.007125</td>\n",
       "      <td>40.710192</td>\n",
       "      <td>1</td>\n",
       "      <td>4.696371</td>\n",
       "    </tr>\n",
       "    <tr>\n",
       "      <th>...</th>\n",
       "      <td>...</td>\n",
       "      <td>...</td>\n",
       "      <td>...</td>\n",
       "      <td>...</td>\n",
       "      <td>...</td>\n",
       "      <td>...</td>\n",
       "    </tr>\n",
       "    <tr>\n",
       "      <th>9884</th>\n",
       "      <td>-73.790022</td>\n",
       "      <td>40.643817</td>\n",
       "      <td>-73.735688</td>\n",
       "      <td>40.773400</td>\n",
       "      <td>6</td>\n",
       "      <td>15.119293</td>\n",
       "    </tr>\n",
       "    <tr>\n",
       "      <th>9885</th>\n",
       "      <td>-74.007878</td>\n",
       "      <td>40.722762</td>\n",
       "      <td>-73.965740</td>\n",
       "      <td>40.754505</td>\n",
       "      <td>6</td>\n",
       "      <td>5.006239</td>\n",
       "    </tr>\n",
       "    <tr>\n",
       "      <th>9886</th>\n",
       "      <td>-73.978852</td>\n",
       "      <td>40.752837</td>\n",
       "      <td>-73.941152</td>\n",
       "      <td>40.812722</td>\n",
       "      <td>6</td>\n",
       "      <td>7.376754</td>\n",
       "    </tr>\n",
       "    <tr>\n",
       "      <th>9887</th>\n",
       "      <td>-73.959087</td>\n",
       "      <td>40.783282</td>\n",
       "      <td>-73.978802</td>\n",
       "      <td>40.785655</td>\n",
       "      <td>6</td>\n",
       "      <td>1.680721</td>\n",
       "    </tr>\n",
       "    <tr>\n",
       "      <th>9888</th>\n",
       "      <td>-73.956488</td>\n",
       "      <td>40.767512</td>\n",
       "      <td>-73.956488</td>\n",
       "      <td>40.767512</td>\n",
       "      <td>6</td>\n",
       "      <td>0.000000</td>\n",
       "    </tr>\n",
       "    <tr>\n",
       "      <th>9889</th>\n",
       "      <td>-73.966650</td>\n",
       "      <td>40.714675</td>\n",
       "      <td>-73.971912</td>\n",
       "      <td>40.693667</td>\n",
       "      <td>6</td>\n",
       "      <td>2.377723</td>\n",
       "    </tr>\n",
       "    <tr>\n",
       "      <th>9890</th>\n",
       "      <td>-73.976602</td>\n",
       "      <td>40.754152</td>\n",
       "      <td>-73.993297</td>\n",
       "      <td>40.730887</td>\n",
       "      <td>6</td>\n",
       "      <td>2.944581</td>\n",
       "    </tr>\n",
       "    <tr>\n",
       "      <th>9891</th>\n",
       "      <td>-73.987185</td>\n",
       "      <td>40.760505</td>\n",
       "      <td>-73.938755</td>\n",
       "      <td>40.799507</td>\n",
       "      <td>6</td>\n",
       "      <td>5.952839</td>\n",
       "    </tr>\n",
       "    <tr>\n",
       "      <th>9892</th>\n",
       "      <td>-73.969175</td>\n",
       "      <td>40.757770</td>\n",
       "      <td>-73.952318</td>\n",
       "      <td>40.781030</td>\n",
       "      <td>6</td>\n",
       "      <td>2.950361</td>\n",
       "    </tr>\n",
       "    <tr>\n",
       "      <th>9893</th>\n",
       "      <td>-73.949657</td>\n",
       "      <td>40.796197</td>\n",
       "      <td>-73.911755</td>\n",
       "      <td>40.827672</td>\n",
       "      <td>6</td>\n",
       "      <td>4.735375</td>\n",
       "    </tr>\n",
       "    <tr>\n",
       "      <th>9894</th>\n",
       "      <td>-74.002267</td>\n",
       "      <td>40.730415</td>\n",
       "      <td>-73.990360</td>\n",
       "      <td>40.756807</td>\n",
       "      <td>6</td>\n",
       "      <td>3.101361</td>\n",
       "    </tr>\n",
       "    <tr>\n",
       "      <th>9895</th>\n",
       "      <td>-73.985840</td>\n",
       "      <td>40.731167</td>\n",
       "      <td>-73.953883</td>\n",
       "      <td>40.653937</td>\n",
       "      <td>6</td>\n",
       "      <td>9.000325</td>\n",
       "    </tr>\n",
       "    <tr>\n",
       "      <th>9896</th>\n",
       "      <td>-73.955490</td>\n",
       "      <td>40.776862</td>\n",
       "      <td>-73.982162</td>\n",
       "      <td>40.769302</td>\n",
       "      <td>6</td>\n",
       "      <td>2.398161</td>\n",
       "    </tr>\n",
       "    <tr>\n",
       "      <th>9897</th>\n",
       "      <td>-73.965782</td>\n",
       "      <td>40.805538</td>\n",
       "      <td>-73.982384</td>\n",
       "      <td>40.761600</td>\n",
       "      <td>6</td>\n",
       "      <td>5.081664</td>\n",
       "    </tr>\n",
       "    <tr>\n",
       "      <th>9898</th>\n",
       "      <td>-73.979042</td>\n",
       "      <td>40.777515</td>\n",
       "      <td>-73.983658</td>\n",
       "      <td>40.781082</td>\n",
       "      <td>6</td>\n",
       "      <td>0.555287</td>\n",
       "    </tr>\n",
       "    <tr>\n",
       "      <th>9899</th>\n",
       "      <td>-73.983238</td>\n",
       "      <td>40.764874</td>\n",
       "      <td>-73.922928</td>\n",
       "      <td>40.743458</td>\n",
       "      <td>6</td>\n",
       "      <td>5.610505</td>\n",
       "    </tr>\n",
       "    <tr>\n",
       "      <th>9900</th>\n",
       "      <td>-73.962952</td>\n",
       "      <td>40.772480</td>\n",
       "      <td>-73.976051</td>\n",
       "      <td>40.786289</td>\n",
       "      <td>6</td>\n",
       "      <td>1.890608</td>\n",
       "    </tr>\n",
       "    <tr>\n",
       "      <th>9901</th>\n",
       "      <td>-73.977943</td>\n",
       "      <td>40.762753</td>\n",
       "      <td>-73.976219</td>\n",
       "      <td>40.776451</td>\n",
       "      <td>6</td>\n",
       "      <td>1.530118</td>\n",
       "    </tr>\n",
       "    <tr>\n",
       "      <th>9902</th>\n",
       "      <td>-73.905525</td>\n",
       "      <td>40.752655</td>\n",
       "      <td>-73.864151</td>\n",
       "      <td>40.737091</td>\n",
       "      <td>6</td>\n",
       "      <td>3.891526</td>\n",
       "    </tr>\n",
       "    <tr>\n",
       "      <th>9903</th>\n",
       "      <td>-73.988403</td>\n",
       "      <td>40.738731</td>\n",
       "      <td>-73.992340</td>\n",
       "      <td>40.759193</td>\n",
       "      <td>6</td>\n",
       "      <td>2.299316</td>\n",
       "    </tr>\n",
       "    <tr>\n",
       "      <th>9904</th>\n",
       "      <td>-73.776848</td>\n",
       "      <td>40.645035</td>\n",
       "      <td>-73.955460</td>\n",
       "      <td>40.652458</td>\n",
       "      <td>6</td>\n",
       "      <td>15.091262</td>\n",
       "    </tr>\n",
       "    <tr>\n",
       "      <th>9905</th>\n",
       "      <td>-73.989647</td>\n",
       "      <td>40.767406</td>\n",
       "      <td>-73.941177</td>\n",
       "      <td>40.845696</td>\n",
       "      <td>6</td>\n",
       "      <td>9.613798</td>\n",
       "    </tr>\n",
       "    <tr>\n",
       "      <th>9906</th>\n",
       "      <td>-73.988052</td>\n",
       "      <td>40.720776</td>\n",
       "      <td>-73.991043</td>\n",
       "      <td>40.718346</td>\n",
       "      <td>6</td>\n",
       "      <td>0.369506</td>\n",
       "    </tr>\n",
       "    <tr>\n",
       "      <th>9907</th>\n",
       "      <td>-73.863457</td>\n",
       "      <td>40.769611</td>\n",
       "      <td>-73.980995</td>\n",
       "      <td>40.763241</td>\n",
       "      <td>6</td>\n",
       "      <td>9.923998</td>\n",
       "    </tr>\n",
       "    <tr>\n",
       "      <th>9908</th>\n",
       "      <td>-73.987968</td>\n",
       "      <td>40.718922</td>\n",
       "      <td>-73.982124</td>\n",
       "      <td>40.732956</td>\n",
       "      <td>6</td>\n",
       "      <td>1.636402</td>\n",
       "    </tr>\n",
       "    <tr>\n",
       "      <th>9909</th>\n",
       "      <td>-73.968124</td>\n",
       "      <td>40.796997</td>\n",
       "      <td>-73.955643</td>\n",
       "      <td>40.780388</td>\n",
       "      <td>6</td>\n",
       "      <td>2.124874</td>\n",
       "    </tr>\n",
       "    <tr>\n",
       "      <th>9910</th>\n",
       "      <td>-73.945511</td>\n",
       "      <td>40.803600</td>\n",
       "      <td>-73.960213</td>\n",
       "      <td>40.776371</td>\n",
       "      <td>6</td>\n",
       "      <td>3.270969</td>\n",
       "    </tr>\n",
       "    <tr>\n",
       "      <th>9911</th>\n",
       "      <td>-73.991600</td>\n",
       "      <td>40.726608</td>\n",
       "      <td>-73.789742</td>\n",
       "      <td>40.647011</td>\n",
       "      <td>6</td>\n",
       "      <td>19.183942</td>\n",
       "    </tr>\n",
       "    <tr>\n",
       "      <th>9912</th>\n",
       "      <td>-73.985573</td>\n",
       "      <td>40.735432</td>\n",
       "      <td>-73.939178</td>\n",
       "      <td>40.801731</td>\n",
       "      <td>6</td>\n",
       "      <td>8.343486</td>\n",
       "    </tr>\n",
       "    <tr>\n",
       "      <th>9913</th>\n",
       "      <td>-73.988022</td>\n",
       "      <td>40.754070</td>\n",
       "      <td>-74.000282</td>\n",
       "      <td>40.759220</td>\n",
       "      <td>6</td>\n",
       "      <td>1.180825</td>\n",
       "    </tr>\n",
       "  </tbody>\n",
       "</table>\n",
       "<p>9914 rows × 6 columns</p>\n",
       "</div>"
      ],
      "text/plain": [
       "      pickup_longitude  pickup_latitude  dropoff_longitude  dropoff_latitude  \\\n",
       "0           -73.973320        40.763805         -73.981430         40.743835   \n",
       "1           -73.986862        40.719383         -73.998886         40.739201   \n",
       "2           -73.982524        40.751260         -73.979654         40.746139   \n",
       "3           -73.981160        40.767807         -73.990448         40.751635   \n",
       "4           -73.966046        40.789775         -73.988565         40.744427   \n",
       "5           -73.960983        40.765547         -73.979177         40.740053   \n",
       "6           -73.949013        40.773204         -73.959622         40.770893   \n",
       "7           -73.777282        40.646636         -73.985083         40.759368   \n",
       "8           -74.014099        40.709638         -73.995106         40.741365   \n",
       "9           -73.969582        40.765519         -73.980686         40.770725   \n",
       "10          -73.989374        40.741973         -73.999300         40.722534   \n",
       "11          -74.001614        40.740893         -73.956387         40.767437   \n",
       "12          -73.991198        40.739937         -73.997166         40.735269   \n",
       "13          -73.982034        40.762723         -74.001867         40.761545   \n",
       "14          -73.992455        40.728701         -73.983397         40.750149   \n",
       "15          -73.983583        40.746993         -73.951178         40.785903   \n",
       "16          -74.006746        40.731721         -74.010204         40.732318   \n",
       "17          -73.976446        40.785598         -73.952220         40.772121   \n",
       "18          -73.973548        40.763349         -73.972096         40.756417   \n",
       "19          -73.970918        40.756025         -73.975954         40.755563   \n",
       "20          -73.926071        40.705866         -73.941741         40.714789   \n",
       "21          -73.970555        40.764702         -73.949132         40.771800   \n",
       "22          -73.989102        40.736360         -73.992767         40.747767   \n",
       "23          -74.003525        40.748480         -73.991520         40.762960   \n",
       "24          -73.990352        40.759992         -74.015665         40.711682   \n",
       "25          -73.989482        40.757450         -74.000850         40.762705   \n",
       "26          -73.870785        40.773722         -73.741922         40.689945   \n",
       "27          -73.992682        40.733877         -73.938852         40.808220   \n",
       "28          -73.954020        40.778705         -73.950277         40.768810   \n",
       "29          -73.972742        40.743432         -74.007125         40.710192   \n",
       "...                ...              ...                ...               ...   \n",
       "9884        -73.790022        40.643817         -73.735688         40.773400   \n",
       "9885        -74.007878        40.722762         -73.965740         40.754505   \n",
       "9886        -73.978852        40.752837         -73.941152         40.812722   \n",
       "9887        -73.959087        40.783282         -73.978802         40.785655   \n",
       "9888        -73.956488        40.767512         -73.956488         40.767512   \n",
       "9889        -73.966650        40.714675         -73.971912         40.693667   \n",
       "9890        -73.976602        40.754152         -73.993297         40.730887   \n",
       "9891        -73.987185        40.760505         -73.938755         40.799507   \n",
       "9892        -73.969175        40.757770         -73.952318         40.781030   \n",
       "9893        -73.949657        40.796197         -73.911755         40.827672   \n",
       "9894        -74.002267        40.730415         -73.990360         40.756807   \n",
       "9895        -73.985840        40.731167         -73.953883         40.653937   \n",
       "9896        -73.955490        40.776862         -73.982162         40.769302   \n",
       "9897        -73.965782        40.805538         -73.982384         40.761600   \n",
       "9898        -73.979042        40.777515         -73.983658         40.781082   \n",
       "9899        -73.983238        40.764874         -73.922928         40.743458   \n",
       "9900        -73.962952        40.772480         -73.976051         40.786289   \n",
       "9901        -73.977943        40.762753         -73.976219         40.776451   \n",
       "9902        -73.905525        40.752655         -73.864151         40.737091   \n",
       "9903        -73.988403        40.738731         -73.992340         40.759193   \n",
       "9904        -73.776848        40.645035         -73.955460         40.652458   \n",
       "9905        -73.989647        40.767406         -73.941177         40.845696   \n",
       "9906        -73.988052        40.720776         -73.991043         40.718346   \n",
       "9907        -73.863457        40.769611         -73.980995         40.763241   \n",
       "9908        -73.987968        40.718922         -73.982124         40.732956   \n",
       "9909        -73.968124        40.796997         -73.955643         40.780388   \n",
       "9910        -73.945511        40.803600         -73.960213         40.776371   \n",
       "9911        -73.991600        40.726608         -73.789742         40.647011   \n",
       "9912        -73.985573        40.735432         -73.939178         40.801731   \n",
       "9913        -73.988022        40.754070         -74.000282         40.759220   \n",
       "\n",
       "     passenger_count   Distance  \n",
       "0                  1   2.323259  \n",
       "1                  1   2.425353  \n",
       "2                  1   0.618628  \n",
       "3                  1   1.961033  \n",
       "4                  1   5.387301  \n",
       "5                  1   3.222549  \n",
       "6                  1   0.929601  \n",
       "7                  1  21.540102  \n",
       "8                  1   3.873962  \n",
       "9                  1   1.099794  \n",
       "10                 1   2.317685  \n",
       "11                 1   4.819179  \n",
       "12                 1   0.722670  \n",
       "13                 1   1.675503  \n",
       "14                 1   2.504032  \n",
       "15                 1   5.115375  \n",
       "16                 1   0.298838  \n",
       "17                 1   2.531147  \n",
       "18                 1   0.780444  \n",
       "19                 1   0.427282  \n",
       "20                 1   1.651946  \n",
       "21                 1   1.969211  \n",
       "22                 1   1.305441  \n",
       "23                 1   1.901295  \n",
       "24                 1   5.779720  \n",
       "25                 1   1.121687  \n",
       "26                 1  14.306540  \n",
       "27                 1   9.427870  \n",
       "28                 1   1.144529  \n",
       "29                 1   4.696371  \n",
       "...              ...        ...  \n",
       "9884               6  15.119293  \n",
       "9885               6   5.006239  \n",
       "9886               6   7.376754  \n",
       "9887               6   1.680721  \n",
       "9888               6   0.000000  \n",
       "9889               6   2.377723  \n",
       "9890               6   2.944581  \n",
       "9891               6   5.952839  \n",
       "9892               6   2.950361  \n",
       "9893               6   4.735375  \n",
       "9894               6   3.101361  \n",
       "9895               6   9.000325  \n",
       "9896               6   2.398161  \n",
       "9897               6   5.081664  \n",
       "9898               6   0.555287  \n",
       "9899               6   5.610505  \n",
       "9900               6   1.890608  \n",
       "9901               6   1.530118  \n",
       "9902               6   3.891526  \n",
       "9903               6   2.299316  \n",
       "9904               6  15.091262  \n",
       "9905               6   9.613798  \n",
       "9906               6   0.369506  \n",
       "9907               6   9.923998  \n",
       "9908               6   1.636402  \n",
       "9909               6   2.124874  \n",
       "9910               6   3.270969  \n",
       "9911               6  19.183942  \n",
       "9912               6   8.343486  \n",
       "9913               6   1.180825  \n",
       "\n",
       "[9914 rows x 6 columns]"
      ]
     },
     "execution_count": 99,
     "metadata": {},
     "output_type": "execute_result"
    }
   ],
   "source": [
    "pred.iloc[:, 0:6]"
   ]
  },
  {
   "cell_type": "code",
   "execution_count": null,
   "metadata": {},
   "outputs": [],
   "source": []
  }
 ],
 "metadata": {
  "kernelspec": {
   "display_name": "Python 3",
   "language": "python",
   "name": "python3"
  },
  "language_info": {
   "codemirror_mode": {
    "name": "ipython",
    "version": 3
   },
   "file_extension": ".py",
   "mimetype": "text/x-python",
   "name": "python",
   "nbconvert_exporter": "python",
   "pygments_lexer": "ipython3",
   "version": "3.7.3"
  }
 },
 "nbformat": 4,
 "nbformat_minor": 2
}
